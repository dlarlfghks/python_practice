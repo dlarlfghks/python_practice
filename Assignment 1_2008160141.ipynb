{
 "cells": [
  {
   "cell_type": "markdown",
   "metadata": {},
   "source": [
    "####   Assignment 1 2008160141 임길환"
   ]
  },
  {
   "cell_type": "markdown",
   "metadata": {
    "collapsed": true
   },
   "source": [
    "###a=\"Hello Python\" 문자열을 Slicing과 연결 연산자 (+)를 사용하여 \"Python Hello\"로 변경하시오.\n",
    "\n",
    "◎[주의] a 변수 자체에 \"Python Hello\" 문자열이 저장되어야 함\n"
   ]
  },
  {
   "cell_type": "code",
   "execution_count": 4,
   "metadata": {
    "collapsed": false,
    "scrolled": true
   },
   "outputs": [
    {
     "name": "stdout",
     "output_type": "stream",
     "text": [
      "Python Hello\n"
     ]
    }
   ],
   "source": [
    "a = \"Hello Python\"\n",
    "\n",
    "print a[6:12]+a[5:6]+a[0:5]"
   ]
  },
  {
   "cell_type": "markdown",
   "metadata": {},
   "source": [
    "a변수가 가리키고 있는 객체는 \"Hello\" + \" \" + \"Python\" 으로 슬라이싱 할 수 있는데 각각 1번 2번 3번으로 가정하고 1번을 3번, 3번을 1번으로 자리를 바꾸어 print 할 수 있다. Hello는 [0:5], \" \"는 [5:6], \"Python\"은 [6:12] 로 슬라이싱하여 연결 연산자를 통해 \"Python\"+\" \"+\"Hello\"로 바꾸면 됩니다."
   ]
  },
  {
   "cell_type": "markdown",
   "metadata": {},
   "source": [
    "###b=\"Hello Python World\" 문자열을 Slicing과 연결 연산자 (+)를 사용하여 \"World Python Hello\"로 변경하시오. \n",
    "\n",
    "◎[주의] b 변수 자체에 \"Python Hello\" 문자열이 저장되어야 함\n"
   ]
  },
  {
   "cell_type": "code",
   "execution_count": 19,
   "metadata": {
    "collapsed": false
   },
   "outputs": [
    {
     "name": "stdout",
     "output_type": "stream",
     "text": [
      "World Hello Python\n",
      "Python Hello\n",
      "Hello Python\n"
     ]
    }
   ],
   "source": [
    "b = \"Hello Python World\"\n",
    "print b[13:18]+b[12:13]+b[0:12]\n",
    "\n",
    "b = b[6:12]+b[5:6]+b[0:5]\n",
    "print b"
   ]
  },
  {
   "cell_type": "markdown",
   "metadata": {},
   "source": [
    "b변수가 가리키고 있는 객체는 \"Hello Python\" + \" \" + \"World\"로 슬라이싱 할 수 있고 이 순서를 \"World\" + \" \" + \"Hello Python\"로 바꾸어 출력을 하고, 문제에 있는 b 변수 자체에 \"Python Hello\" 문자열이 저장되어야 하기 때문에 1번 문제와 같은 풀이로 바꾸어 b에 저장하면 됩니다."
   ]
  },
  {
   "cell_type": "markdown",
   "metadata": {},
   "source": [
    "###c=\"Hello\"를 \"olleH\"로 변경하시오.\n",
    "\n",
    "###◎[주의] c 변수 자체에 \"olleH\" 문자열이 저장되어야 함\n"
   ]
  },
  {
   "cell_type": "code",
   "execution_count": 20,
   "metadata": {
    "collapsed": false
   },
   "outputs": [
    {
     "name": "stdout",
     "output_type": "stream",
     "text": [
      "olleH\n"
     ]
    }
   ],
   "source": [
    "c = \"Hello\"\n",
    "c = c[::-1]\n",
    "\n",
    "print c"
   ]
  },
  {
   "cell_type": "markdown",
   "metadata": {},
   "source": [
    "c변수에 Hello가 있지만 슬라이싱을 통해 [::-1]이라는 인덱스 차이를 -1을 두고 (아마 파이썬에서 자체적으로 반대로 문자열을 표기해주고 있음)\n",
    "슬라이싱을 통하여 문자열을 반대로 표기할수 있고 c변수에 문자열을 반대로 위치 된것을 저장하고 c를 출력하면 olleH를 표시하고 있음을 보여줍니다."
   ]
  },
  {
   "cell_type": "markdown",
   "metadata": {},
   "source": [
    "###s=\"python\"에 대해 다음 문제를 풀어보시오.\n",
    "\n",
    "① s[0], s[0][0], s[0][0][0]은 각각 어떤 값이 나오는지 확인하고 그 이유를 나름대로 설명해 보시오.\n",
    "\n",
    "② s[-100], s[100]은 값이 나오는지 에러가 나오는지 확인하고 그 결과에 대한 이유를 나름대로 설명해 보시오.\n",
    "\n",
    "③ s[-100, 100]은 값이 나오는지 에러가 나오는지 확인하고 그 결과에 대한 이유를 나름대로 설명해 보시오.\n",
    "\n",
    "④ s[1:-1]의 결과를 확인하고 그 결과에 대한 이유를 정확하게 설명하시오.\n",
    "\n",
    "⑤ s[3:-3]의 결과를 확인하고 그 결과에 대한 이유를 정확하게 설명하시오.\n"
   ]
  },
  {
   "cell_type": "code",
   "execution_count": 65,
   "metadata": {
    "collapsed": false
   },
   "outputs": [
    {
     "name": "stdout",
     "output_type": "stream",
     "text": [
      "p p p\n",
      "p n\n",
      "{(-100, 100): 100}\n",
      "ytho\n",
      "\n"
     ]
    }
   ],
   "source": [
    "s = \"python\"\n",
    "# 1번 문제\n",
    "print s[0], s[0][0], s[0][0][0]\n",
    "\n",
    "# 2번 문제\n",
    "print s[-6], s[5]\n",
    "\n",
    "# 3번 문제 부가 내용 코드\n",
    "x = {}\n",
    "x[-100,100] = 100\n",
    "\n",
    "print x\n",
    "\n",
    "# 4번 문제\n",
    "print s[1:-1]\n",
    "\n",
    "# 5번 문제\n",
    "print s[3:-3]"
   ]
  },
  {
   "cell_type": "markdown",
   "metadata": {},
   "source": [
    "(1) s[0] s[0][0] s[0][0][0]은 모두 p를 나타내고 있는데 여기서 s[0][1], s[0][0][1]을 넣어도 에러가 나는것을 볼 수 있다. 이것은 표로 생각하면 되지 않을까 싶음. s[0]은 1차원(1행)의 1열을 나타내는 문자 p, s[0][0]은 2차원 (다수의 행)의 1행 1열을 나타내는 문자열 p, s[0][0][0]은 3차원 (2차원의 집합, 표라고 예를 들자면)의 첫번째 표의 1행 1열의 문자열 p를 나타내고 있는데 현재 s는 파이썬에서 나타내는 1차원 배열로 되어 있기 때문에 s[0:6]의 개념이 적용 되지만 2차원 배열 3차원 배열에선 제일 앞의 배열 차수가 python이 적용되고 나머지는 p 하나만 적용되기 때문에 2번째 3번째 배열들은 0 아닌 다른 수를 넣으면 index가 0까지 있기 때문에 에러가 나는거 같습니다.\n",
    "\n",
    "(2) s[-100], s[100]은 에러가 나는 이유는 파이썬에서 제공하는 -인덱스는 해당 문자열의 갯수 1회 cycle 만 제공하는듯 합니다.\n",
    "위의 코드와 같이 s[-6]과 s[5]는 각각 p와 n을 출력하는데 첫번째 문자열과 마지막 문자열을 출력해주고 있다. s의 인덱스를 -7과 6을 넣으면 인덱스 오류가 뜨며 에러가 난다. 아마 파이썬에서 제공하는 인덱스영역은 해당 문자열의 1회 cycle 만큼 제공하고 있는듯 합니다.\n",
    "\n",
    "(3)  3번은 분명 에러가 난다. TypeError: string indices must be integers, not tuple 이라는 에러를 볼수 있는데 문자열 인덱스는 무조건 정수로 사용해야하고 튜플은 절대 사용하지 마라고 하는거 같은데, s[-100, 100]은 사전에서 사용하는 방식인데 s는 사전이 아니라 문자열이고 s[-100,100]은 사전에서 튜플로 구성 되어 있어 타입에러가 나타났을듯 합니다.\n",
    "\n",
    "(4) 슬라이싱 두번째 파라미터인 -1까지 표시하는것은 다시 말해 5와 동일하지만 이 5는 인덱스로 4를 의미하는데 5는 4(+1)을 의미 하고 있고, -1은 다시 말해 -(1+(1))이 이기 때문에 실제로 표기되는 범위는 -2 즉 4까지 의미를 둘 수 있습니다. 그러므로 python에서 4, 즉 -2인 o까지 표기가 되어야 하며 슬라이싱 첫번째 파라미터인 1은 1번 즉 y부터 -2 o까지 문자열을 나타내고 있습니다.\n",
    "\n",
    "(5) 4번과 같이 3번(4번째) 문자열 h에서 시작하며 -3번째 (-4, 즉 3번째) 문자열 t까지 나타내야하므로 나타낼 문자열은 없다고 봅니다."
   ]
  },
  {
   "cell_type": "markdown",
   "metadata": {},
   "source": [
    "###for문을 활용하여 1부터 100사이의 홀수를 출력하시오."
   ]
  },
  {
   "cell_type": "code",
   "execution_count": 1,
   "metadata": {
    "collapsed": false,
    "scrolled": true
   },
   "outputs": [
    {
     "name": "stdout",
     "output_type": "stream",
     "text": [
      "1\n",
      "3\n",
      "5\n",
      "7\n",
      "9\n",
      "11\n",
      "13\n",
      "15\n",
      "17\n",
      "19\n",
      "21\n",
      "23\n",
      "25\n",
      "27\n",
      "29\n",
      "31\n",
      "33\n",
      "35\n",
      "37\n",
      "39\n",
      "41\n",
      "43\n",
      "45\n",
      "47\n",
      "49\n",
      "51\n",
      "53\n",
      "55\n",
      "57\n",
      "59\n",
      "61\n",
      "63\n",
      "65\n",
      "67\n",
      "69\n",
      "71\n",
      "73\n",
      "75\n",
      "77\n",
      "79\n",
      "81\n",
      "83\n",
      "85\n",
      "87\n",
      "89\n",
      "91\n",
      "93\n",
      "95\n",
      "97\n",
      "99\n",
      "\n",
      "1\n",
      "3\n",
      "5\n",
      "7\n",
      "9\n",
      "11\n",
      "13\n",
      "15\n",
      "17\n",
      "19\n",
      "21\n",
      "23\n",
      "25\n",
      "27\n",
      "29\n",
      "31\n",
      "33\n",
      "35\n",
      "37\n",
      "39\n",
      "41\n",
      "43\n",
      "45\n",
      "47\n",
      "49\n",
      "51\n",
      "53\n",
      "55\n",
      "57\n",
      "59\n",
      "61\n",
      "63\n",
      "65\n",
      "67\n",
      "69\n",
      "71\n",
      "73\n",
      "75\n",
      "77\n",
      "79\n",
      "81\n",
      "83\n",
      "85\n",
      "87\n",
      "89\n",
      "91\n",
      "93\n",
      "95\n",
      "97\n",
      "99\n"
     ]
    }
   ],
   "source": [
    "# 1번 코드\n",
    "for x in range(1,101,2):\n",
    "    print x\n",
    "    \n",
    "print\n",
    "\n",
    "# 2번 코드\n",
    "for x in range(1, 101):\n",
    "    if (x % 2 == 1):\n",
    "        print x"
   ]
  },
  {
   "cell_type": "markdown",
   "metadata": {},
   "source": [
    "1번 코드에서 range(1,101,2)를 통하여 1부터 100까지 2씩 차이나는 수들만 컨테이너로 사용하여 for문을 사용하여 출력하도록 하였습니다.\n",
    "2번 코드에서는 range(1, 101)을 하여 1에서 100까지 수를 컨테이너로 사용하여 if문에서 2를 나누어 나머지 1인경우의 수들을 출력하도록 하였습니다."
   ]
  },
  {
   "cell_type": "markdown",
   "metadata": {},
   "source": [
    "###while문을 활용하여 1부터 100사이의 짝수의 합을 계산하여 출력하시오."
   ]
  },
  {
   "cell_type": "code",
   "execution_count": 14,
   "metadata": {
    "collapsed": false
   },
   "outputs": [
    {
     "name": "stdout",
     "output_type": "stream",
     "text": [
      "2550\n",
      "2550\n"
     ]
    }
   ],
   "source": [
    "# 1번 코드\n",
    "a = 1\n",
    "sum = 0\n",
    "while a <= 100:\n",
    "    if a%2 == 0:\n",
    "        sum += a\n",
    "    a += 1\n",
    "print sum\n",
    "\n",
    "# 2번 코드\n",
    "a = 1\n",
    "sum = 0\n",
    "while 1:\n",
    "    if a==101:\n",
    "        print sum\n",
    "        break\n",
    "    elif a%2 == 0:\n",
    "        sum += a\n",
    "    a += 1"
   ]
  },
  {
   "cell_type": "markdown",
   "metadata": {},
   "source": [
    "1번코드에서 a의 역할은 1부터 100까지의 수를 나타내는 변수이고 sum은 짝수의 합의 값을 저장할 변수, while문을 통하여 1부터 100까지 반복할수 있도록 조건을 달았으며, 중간에 조건문을 넣어 a를 2로 나눈 나머지값이 없으면 짝수의 합을 계산하도록 하였습니다.\n",
    "2번코드에서 a와 sum의 역할은 1번코드와 동일하지만 while문에서 무한으로 반복되도록 하였으며, 조건을 2개로 나누었는데 1번 조건은 a가 101일때 짝수의 합을 출력하고 반복문을 종료시키고 두번째 조건문은 a를 2로 나눈 나머지값이 없으면 sum에 짝수의 합을 집어 넣도록 하였으며 while문에 조건없이 a는 1씩 증가되도록 하였습니다."
   ]
  },
  {
   "cell_type": "markdown",
   "metadata": {},
   "source": [
    "###사용자로 부터 임의의 정수를 입력받고, 해당 숫자를 역순으로 출력하는 프로그램을 작성하시오.\n",
    "\n",
    "[실행 예]\n",
    "\n",
    "정수를 입력하세요: 3125\n",
    "\n",
    "숫자 역순은 5213 입니다.\n"
   ]
  },
  {
   "cell_type": "code",
   "execution_count": 24,
   "metadata": {
    "collapsed": false
   },
   "outputs": [
    {
     "name": "stdout",
     "output_type": "stream",
     "text": [
      "�뺤닔瑜��낅젰�섏꽭��: 123456\n",
      "숫자 역순은 654321 입니다.\n",
      "�뺤닔瑜��낅젰�섏꽭��: 123456\n",
      "숫자 역순은 654321 입니다.\n"
     ]
    }
   ],
   "source": [
    "# 1번 코드\n",
    "number = raw_input(\"정수를 입력하세요 : \")\n",
    "print \"숫자 역순은\",number[::-1],\"입니다.\"\n",
    "\n",
    "# 2번 코드\n",
    "number = input(\"정수를 입력하세요 : \")\n",
    "print \"숫자 역순은\",str(number)[::-1],\"입니다.\""
   ]
  },
  {
   "cell_type": "markdown",
   "metadata": {},
   "source": [
    "1번과 2번 코드의 차이점은 입력받을때의 타입차이인데 raw_input은 문자열을 입력을 받고 input은 정수, 실수, Expression을 입력 받는점에 차이가 있다. 이 문제에서 숫자의 역순을 하는것이 목적이기 때문에 1번 코드에서는 raw_input으로 입력을 받아 출력때 바로 인덱스를 반대로 취하여 입력받은 값을 역순으로 취할수 있었지만 정수, 실수와 같은수로 받는 input으로 입력을 받게 되면 문자열와 달리 인덱스가 붙지 않으므로 2번코드같은 경우에는 str로 형을 변환하여 인덱스로 역순을 출력하도록 하였습니다."
   ]
  },
  {
   "cell_type": "markdown",
   "metadata": {},
   "source": [
    "###사용자로 부터 정수를 입력받아서 1부터 그 사이에 존재하는 소수 (Prime number)를 출력하는 파이썬 프로그램을 작성하시오."
   ]
  },
  {
   "cell_type": "code",
   "execution_count": 16,
   "metadata": {
    "collapsed": false
   },
   "outputs": [
    {
     "name": "stdout",
     "output_type": "stream",
     "text": [
      "number input : 0\n"
     ]
    }
   ],
   "source": [
    "number = input(\"number input : \")\n",
    "for x in range(2,number+1):\n",
    "    for y in range(2,x):\n",
    "        if (x % y) == 0:\n",
    "            break\n",
    "    else:\n",
    "        print x"
   ]
  },
  {
   "cell_type": "markdown",
   "metadata": {
    "collapsed": true
   },
   "source": [
    "소수를 구하기 위해선 2이상(range범위는 2부터), 1과 자기자신을 나누어 나머지가 0인 수를 말하는데\n",
    "먼저 반복문에서 범위는 1부터 입력받은 수에 1을 증가시키며 안의 반복문에 대비하는 역할을 하는데, (range에서 수범위는 무조건 -1까지 인식하므로 1을 더해야지 입력받은 범위 만큼 연산을 할수 있음) 그 안의 반복문은 밖의 반복문의 수와 연산을 할수 있는 수를 나타내는데 그 안의 조건문들은 나머지가 0 인 수는 걸러내며 나머지가 있는 수는 소수로 판단하고 그 수를 출력하게 됩니다. 이렇게 하여 소수를 출력하는 파이썬 프로그램을 작성했습니다."
   ]
  },
  {
   "cell_type": "markdown",
   "metadata": {},
   "source": [
    "###10보다 작은 자연수 중에서 3 또는 5의 배수는 3, 5, 6, 9 이고, 이것을 모두 더하면 23입니다. 1000보다 작은 자연수 중에서 3 또는 5의 배수를 모두 더하면 얼마일까요?"
   ]
  },
  {
   "cell_type": "code",
   "execution_count": null,
   "metadata": {
    "collapsed": false
   },
   "outputs": [],
   "source": [
    "print sum(range(0,1000,3))+sum(range(0,1000,5))"
   ]
  },
  {
   "cell_type": "code",
   "execution_count": null,
   "metadata": {
    "collapsed": false
   },
   "outputs": [],
   "source": [
    "L = range(1000)\n",
    "\n",
    "print sum(L[::3])+sum(L[::5])"
   ]
  },
  {
   "cell_type": "markdown",
   "metadata": {
    "collapsed": false
   },
   "source": [
    "첫번째에서 바로 sum함수에 range의 범위를 0부터 999까지 3차이 나는 수의 합과 5차이나는 수의 합을 더하는 방식\n",
    "두번째는 L이라는 변수에 0부터 999까지 리스트의 객체를 레퍼런스를 담아 각각 L의 레퍼런스 객체를 3, 5씩 차이가 나도록 슬라이싱하여 그 합을 더하는 방식입니다."
   ]
  },
  {
   "cell_type": "markdown",
   "metadata": {
    "collapsed": true
   },
   "source": [
    "###피보나치 수열의 각 항은 바로 앞의 항 두 개를 더한 것이 됩니다. 1과 2로 시작하는 경우 이 수열은 아래와 같습니다.\n",
    "\n",
    "###1, 2, 3, 5, 8, 13, 21, 34, 55, 89, ... \n",
    "\n",
    "###짝수이면서 4백만 이하인 모든 항을 더하면 얼마가 됩니까?\n"
   ]
  },
  {
   "cell_type": "code",
   "execution_count": 31,
   "metadata": {
    "collapsed": false
   },
   "outputs": [
    {
     "name": "stdout",
     "output_type": "stream",
     "text": [
      "Input Number : 10\n",
      "143\n"
     ]
    }
   ],
   "source": [
    "num = input(\"Input Number : \")\n",
    "sum = 0;\n",
    "\n",
    "\n",
    "def Fibonacci(num):\n",
    "    if num <= 1:\n",
    "        return num\n",
    "    else:\n",
    "        return Fibonacci(num-1) + Fibonacci(num-2)\n",
    "\n",
    "for x in range(1, num+1):\n",
    "    sum += Fibonacci(x)\n",
    "\n",
    "print sum\n",
    "       "
   ]
  },
  {
   "cell_type": "markdown",
   "metadata": {},
   "source": [
    "400만까지는 못하더라도 피보나치 수열의 코드는 짜보았습니다.\n",
    "우선 def로 함수로 만들어 수열의 합들을 구하기 위해서 반복문을 사용하여 처리 하였습니다.\n",
    "재귀함수로 만들어서 속도는 매우 느립니다만 답을 정확히 나오네요"
   ]
  },
  {
   "cell_type": "markdown",
   "metadata": {},
   "source": [
    "###어떤 수를 소수의 곱으로만 나타내는 것을 소인수분해라 하고, 이 소수들을 그 수의 소인수라고 합니다.\n",
    "## 예를 들면 13195의 소인수는 5, 7, 13, 29 입니다.\n",
    "\n",
    "##600851475143의 소인수 중에서 가장 큰 수를 구하세요.\n"
   ]
  },
  {
   "cell_type": "code",
   "execution_count": 19,
   "metadata": {
    "collapsed": false,
    "scrolled": true
   },
   "outputs": [
    {
     "name": "stdout",
     "output_type": "stream",
     "text": [
      "Input Number : 600851475143\n",
      "71\n",
      "839\n",
      "1471\n",
      "6857\n"
     ]
    }
   ],
   "source": [
    "number = input(\"Input Number : \")\n",
    "target = 1\n",
    "\n",
    "def Fipf(number, target):\n",
    "    while 1:\n",
    "        target += 1\n",
    "        if (number%target == 0):\n",
    "            if (number == target):\n",
    "                print target\n",
    "                break;\n",
    "            number /= target\n",
    "            print target\n",
    "            target = 1\n",
    "\n",
    "Fipf(number, target)"
   ]
  },
  {
   "cell_type": "markdown",
   "metadata": {
    "collapsed": true
   },
   "source": [
    "소인수분해는 간단하게 어떤수를 2부터 나누어보는데 나머지가 0인 부분만 찾아서 하나씩 출력 하도록 프로그래밍 했습니다.\n",
    "number 는 입력받은 수이고 target은 1이라고 선언했지만 while문에서 2로 시작하여 number와 target을 나누어 나머지가 0일때의 target을 찾아 소인수를 구하는 형태로 했습니다.\n",
    "위의 문제의 답은 6857입니다. 600851475143 을 소인수 분해를 하면 71 839 1471 6857이 나옵니다."
   ]
  },
  {
   "cell_type": "markdown",
   "metadata": {},
   "source": [
    "###숙제이후 소감"
   ]
  },
  {
   "cell_type": "markdown",
   "metadata": {},
   "source": [
    "말로 들었던 파이썬 프로그래밍 막상 해보니 약간 어색한 부분도 있었지만 생각외로 코딩하는 방식이 간단해서 재미있고 새롭습니다.\n",
    "교수님 강의도 좋긴 하지만 인터넷 강의라서 좀 더 부담이 없는 부분도 있지만 이게 의외로 집중력이 좋을때는 집중이 잘되면서\n",
    "집중력이 흩어지면 집중이 안되는 단점이 있지만 다시 볼 수 있어서 꽤 좋습니다."
   ]
  }
 ],
 "metadata": {
  "kernelspec": {
   "display_name": "Python 2",
   "language": "python",
   "name": "python2"
  },
  "language_info": {
   "codemirror_mode": {
    "name": "ipython",
    "version": 2
   },
   "file_extension": ".py",
   "mimetype": "text/x-python",
   "name": "python",
   "nbconvert_exporter": "python",
   "pygments_lexer": "ipython2",
   "version": "2.7.9"
  }
 },
 "nbformat": 4,
 "nbformat_minor": 0
}
