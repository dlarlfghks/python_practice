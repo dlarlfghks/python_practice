{
 "metadata": {
  "name": "",
  "signature": "sha256:551cf4a4c40f9e7dbabd1c0e6ea1a7e818a0173d0ab989f3df8bf029746b1d38"
 },
 "nbformat": 3,
 "nbformat_minor": 0,
 "worksheets": [
  {
   "cells": [
    {
     "cell_type": "markdown",
     "metadata": {},
     "source": [
      "###Assignment 4 2008160141"
     ]
    },
    {
     "cell_type": "markdown",
     "metadata": {},
     "source": [
      "[1\ubc88 \ubb38\uc81c]\n",
      "\n",
      "\ud30c\uc77c s.txt \ub0b4\uc758 \ub2e4\uc74c \ub0b4\uc6a9\uacfc \ud568\uaed8 \uc544\ub798 \ubb38\uc81c\uc758 \ucf54\ub4dc\ub97c \uc81c\uc2dc\ud558\uc2dc\uc624.\n",
      "\n",
      "- 1) \ud30c\uc77c s.txt\uc744 \uc77d\uc5b4\uc11c \uac01 \ub77c\uc778\uc5d0 \uc788\ub294 \uccab \ubc88\uc9f8 \ub2e8\uc5b4(\ubb38\uc790\uc5f4) \uc790\uccb4\ub4e4\uc744 \uae30\uc900\uc73c\ub85c \ub77c\uc778\ubcc4 \uc815\ub82c\ud6c4 \ud30c\uc77c s1.txt\uc5d0 \uadf8 \uacb0\uacfc\ub97c \uae30\ub85d\ud558\ub294 \ucf54\ub4dc\ub97c \uc791\uc131\ud558\uc2dc\uc624. \uc989, \ud504\ub85c\uadf8\ub7a8 \uc218\ud589 \ud6c4 s1.txt\uc5d0 \uc788\ub294 \ud30c\uc77c \ub0b4\uc6a9\uc740 \ub2e4\uc74c\uacfc \uac19\ub2e4.\n",
      "- 2) \ud30c\uc77c s.txt\uc744 \uc77d\uc5b4\uc11c \uac01 \ub77c\uc778\uc5d0 \uc788\ub294 \ub450 \ubc88\uc9f8 \ub2e8\uc5b4(\ubb38\uc790\uc5f4) \uc790\uccb4\ub4e4\uc744 \uae30\uc900\uc73c\ub85c \ub77c\uc778\ubcc4 \uc815\ub82c\ud6c4 \ud30c\uc77c s2.txt\uc5d0 \uadf8 \uacb0\uacfc\ub97c \uae30\ub85d\ud558\ub294 \ucf54\ub4dc\ub97c \uc791\uc131\ud558\uc2dc\uc624. \uc989, \ud504\ub85c\uadf8\ub7a8 \uc218\ud589 \ud6c4 s2.txt\uc5d0 \uc788\ub294 \ud30c\uc77c \ub0b4\uc6a9\uc740 \ub2e4\uc74c\uacfc \uac19\ub2e4.\n",
      "- 3) \ud30c\uc77c s.txt\uc744 \uc77d\uc5b4\uc11c \uac01 \ub77c\uc778\ub4e4\uc5d0 \uc788\ub294 \ubaa8\ub4e0 \ub2e8\uc5b4\ub4e4\uc744 \uc21c\ucc28\uc801\uc73c\ub85c \ub2e4\uc2dc \ub098\uc5f4\ud558\ub418 \uac01 \ub77c\uc778\uc5d0 \uc138 \uac1c\uc758 \ub2e8\uc5b4\ub4e4\uc774 \uc624\ub3c4\ub85d \ud558\uc5ec s3.txt\uc5d0 \uae30\ub85d\ud558\ub294 \ucf54\ub4dc\ub97c \uc791\uc131\ud558\uc2dc\uc624. \uc989, \ud504\ub85c\uadf8\ub7a8 \uc218\ud589 \ud6c4 s3.txt\uc5d0 \uc788\ub294 \ud30c\uc77c \ub0b4\uc6a9\uc740 \ub2e4\uc74c\uacfc \uac19\ub2e4."
     ]
    },
    {
     "cell_type": "code",
     "collapsed": false,
     "input": [
      "#1-1\ubc88\ubb38\uc81c\n",
      "import os\n",
      "\n",
      "f = open('s.txt', 'r')\n",
      "s = f.read()\n",
      "\n",
      "s = s.splitlines()\n",
      "s.sort()\n",
      "\n",
      "f1 = open('s1.txt', 'w')\n",
      "f1.write('\\n'.join(s))\n",
      "f1.close()\n",
      "f.close()\n",
      "\n",
      "#1-2\ubc88\ubb38\uc81c\n",
      "dic = {}\n",
      "f = open('s.txt')\n",
      "s = f.readline()\n",
      "\n",
      "while s:\n",
      "    s = s.split()\n",
      "    dic[s[0]] = s[1]\n",
      "    s = f.readline()\n",
      "\n",
      "f2 = open('s2.txt', 'w')\n",
      "for key, value in sorted(dic.iteritems(), key=lambda(k,v):(v,k)):\n",
      "    f2.write(\"%s %s\\n\" % (key, value))\n",
      "\n",
      "f2.close()\n",
      "f.close()\n",
      "\n",
      "#1-3\ubc88\ubb38\uc81c\n",
      "f = open('s.txt')\n",
      "s = f.read()\n",
      "s = s.split()\n",
      "\n",
      "count = 0\n",
      "temp = ''\n",
      "lit = []\n",
      "for x in s:\n",
      "    temp += x\n",
      "    count += 1\n",
      "    if count == 3:\n",
      "        lit.append(temp)\n",
      "        temp = ''\n",
      "        count = 0\n",
      "    else:\n",
      "        temp += ' '\n",
      "else:\n",
      "    lit.append(temp)\n",
      "\n",
      "f3 = open('s3.txt', 'w')\n",
      "f3.write(\"\\n\".join(lit))\n",
      "f3.close()\n",
      "f.close()"
     ],
     "language": "python",
     "metadata": {},
     "outputs": [],
     "prompt_number": 57
    },
    {
     "cell_type": "markdown",
     "metadata": {},
     "source": [
      "1\ubc88 2\ubc88 3\ubc88 \uac19\uc740 \uacbd\uc6b0\uc5d0\ub294 \ubcc4 \ub2e4\ub978\uac74 \uc5c6\uace0 2\ubc88\ub9cc \ub78c\ub2e4 \ud568\uc218\ub97c \uc368\uc11c \uc2a4\uc651\ud615\ud0dc\ub97c \ucde8\ud558\uc5ec \uc18c\ud2b8\ud558\uc5ec \ucd9c\ub825\ud558\ub3c4\ub85d \ud558\uc600\uc2b5\ub2c8\ub2e4."
     ]
    },
    {
     "cell_type": "markdown",
     "metadata": {},
     "source": [
      "[2\ubc88 \ubb38\uc81c]\n",
      "\n",
      "\ub2e4\uc74c\uacfc \uac19\uc740 \uc870\uac74\ub4e4\uc744 \ucc38\uace0\ud558\uc5ec \ud68c\uc6d0 \uac00\uc785 \ubc0f \ub85c\uadf8\uc778 \ud504\ub85c\uadf8\ub7a8\uc744 \uc791\uc131\ud558\uc2dc\uc624.\n",
      "\u20221) \ud504\ub85c\uadf8\ub7a8 \uc2dc\uc791 \ud6c4 \ub2e4\uc74c\uacfc \uac19\uc740 \uba54\uc2dc\uc9c0\uac00 \ucd9c\ub825\ub418\uc5b4 1, 2, 3 \uc911 \ud558\ub098\uc758 \uac12\uc744 \uc785\ub825 \ubc1b\ub3c4\ub85d \ud55c\ub2e4.\n",
      "\n",
      "Welcome to Our Service\n",
      "\n",
      "1.Sign Up\n",
      "\n",
      "2.Sign In\n",
      "\n",
      "3.Quit\n",
      "\n",
      "\n",
      "\u20222) 1\uc744 \uc120\ud0dd\ud558\uba74 ID, Password, Name, School\uc758 4\uac00\uc9c0 \uc815\ubcf4\ub97c \uc785\ub825\ubc1b\uc544 \ud30c\uc77c\uc5d0 \uc800\uc7a5\ud558\ub294 \ud504\ub85c\uadf8\ub7a8\uc744 \uc791\uc131\ud55c\ub2e4.\u25fe2-1) \uc785\ub825\ub41c \ub0b4\uc6a9\uc740 access.txt \ub77c\ub294 \uc774\ub984\uc758 \ud14d\uc2a4\ud2b8 \ud30c\uc77c \ub0b4\uc5d0 \uc800\uc7a5\ub41c\ub2e4. \n",
      "\u25fe2-2) access.txt \ud30c\uc77c\uc758 \uac01 \ub77c\uc778\uc5d0\ub294 \uac00\uc785\ub41c \ud68c\uc6d0 \uac01\uac01\uc758 \uc815\ubcf4\uac00 \"[id]: [password], [name], [school]\" \ud615\ud0dc\ub85c \uc800\uc7a5\ub41c\ub2e4.\n",
      "\u25fe2-3) \uc989, \uac00\uc785 \ud68c\uc6d0\uc774 10\uba85\uc774\uba74 access.txt \ud30c\uc77c \ub0b4\uc5d0 \ub77c\uc778 \uc218\ub3c4 \uc815\ud655\ud788 10\uac1c\uc774\ub2e4.\n",
      "\u25fe2-4) \uc554\ud638\ud654 \ubc29\uc2dd\uc740 sha \ubaa8\ub4c8\uc744 \ud65c\uc6a9\ud55c\ub2e4. sha \ubaa8\ub4c8 \ud65c\uc6a9 \ubc29\ubc95\uc740 \ubcf8 \ubb38\uc81c\uc758 \ub9c8\uc9c0\ub9c9\uc5d0 \uc81c\uc2dc\ub41c sha \ud65c\uc6a9 \uc608\ub97c \ucc38\uace0\ud55c\ub2e4.\u25e6\uc989, access.txt \ud30c\uc77c \ub0b4\uc5d0 password \uc815\ubcf4\ub294 \uc554\ud638\ud654 \ub418\uc5b4 \uc800\uc7a5\ub418\uc5b4\uc57c \ud55c\ub2e4.\n",
      "\n",
      "\u25fe2-5) \ud68c\uc6d0 \uc815\ubcf4\ub97c \uc785\ub825 \ubc1b\uc744 \ub54c id\ub97c \uc785\ub825 \ubc1b\uc740 \uc9c1\ud6c4 access.txt\ub97c \ud655\uc778\ud558\uc5ec \uc774\ubbf8 \uc874\uc7ac\ud558\ub294 id\uac00 \uc785\ub825\ub418\uc5c8\ub2e4\uba74 \ub2e4\uc74c \uba54\uc2dc\uc9c0\ub97c \ucd9c\ub825\ud558\uace0 id \uc815\ubcf4\ub97c \ub2e4\uc2dc \uc785\ub825\ubc1b\ub294\ub2e4.\u25e6Sorry, the entered ID is already used.\n",
      "\n",
      "\n",
      "\u20223) 2\ub97c \uc120\ud0dd\ud558\uba74 ID, Password\uc758 2\uac00\uc9c0 \uc815\ubcf4\ub97c \uc785\ub825\ubc1b\ub294 \ud504\ub85c\uadf8\ub7a8\uc744 \uc791\uc131\ud55c\ub2e4.\u25fe3-1) \uc785\ub825\ub41c ID \uc815\ubcf4\uac00 access.txt\uc5d0 \uc874\uc7ac\ud558\uc9c0 \uc54a\uc73c\uba74 \ub2e4\uc74c\uacfc \uac19\uc740 \uba54\uc2dc\uc9c0\ub97c \ucd9c\ub825\ud558\uace0 \ub2e4\uc2dc \uc785\ub825\ubc1b\ub294\ub2e4.\u25e6Sorry, you are not a registered member.\n",
      "\n",
      "\u25fe3-2) \uc785\ub825\ub41c ID\uac00 \uc62c\ubc14\ub974\uac8c \uc874\uc7ac\ud558\uc9c0\ub9cc Password \uc815\ubcf4\uac00 access.txt \ud30c\uc77c\uc5d0 \uc788\ub294 \uc815\ubcf4\uc640 \ubd88\uc77c\uce58\ud558\uba74 \ub2e4\uc74c\uacfc \uac19\uc740 \uba54\uc2dc\uc9c0\ub97c \ucd9c\ub825\ud558\uace0 Password\ub97c \ub2e4\uc2dc \uc785\ub825\ubc1b\ub294\ub2e4.\u25e6Sorry, the entered password is not correct.\n",
      "\u25e6\uc774 \ub54c\uc5d0\ub3c4 \uc0ac\uc6a9\uc790\uac00 \uc785\ub825\ud55c Password \uc815\ubcf4\uc640 \ud568\uaed8 sha \ubaa8\ub4c8\uc774 \ud65c\uc6a9\ub418\uc5b4\uc57c \ud55c\ub2e4.\n",
      "\n",
      "\u25fe3-3) \uc785\ub825\ub41c ID\uc640 Password\uac00 \ubaa8\ub450 \uc62c\ubc14\ub974\uba74 \ub2e4\uc74c\uacfc \uac19\uc740 \uba54\uc2dc\uc9c0\ub97c \ucd9c\ub825\ud55c\ub2e4.\u25e6Hello [name]!\n",
      "\u25e6\uc704 [name]\uc5d0\ub294 access.txt\uc5d0 \uae30\ub85d\ub418\uc5b4 \uc788\ub294 name \uc815\ubcf4\ub97c \ucd9c\ub825\ud55c\ub2e4.\n",
      "\n",
      "\n",
      "\u20224) 3\uc744 \uc120\ud0dd\ud558\uba74 \ud504\ub85c\uadf8\ub7a8\uc774 \ub05d\ub09c\ub2e4.\n",
      "\u2022[\ucc38\uace0] sha \ubaa8\ub4c8 \ud65c\uc6a9 \uc608\n"
     ]
    },
    {
     "cell_type": "code",
     "collapsed": false,
     "input": [
      "import sha\n",
      "import os\n",
      "\n",
      "def signup():\n",
      "    f = open('access.txt')\n",
      "    line = f.readline()\n",
      "    i = 1\n",
      "    while 1:\n",
      "        id_name = raw_input('input your ID : ')\n",
      "            while line:\n",
      "                if \n",
      "        password = raw_input('input your PassWord : ')\n",
      "        name = raw_input('input your Name : ')\n",
      "        school = raw_input('input your School : ')\n",
      "    \n",
      "\n",
      "while 1:\n",
      "    select = input(''' Welcome to Our Service\n",
      "    1. Sign Up\n",
      "    2. Sign In\n",
      "    3. Quit\n",
      "    ''')\n",
      "    if select == 1:\n",
      "        pass\n",
      "    elif select == 2:\n",
      "        pass\n",
      "    elif select == 3:\n",
      "        break\n",
      "    else:\n",
      "        print \"error\"\n",
      "\n",
      "\n",
      "password_plain = \"12345678\"\n",
      "password_encrypted = sha.new(password_plain).hexdigest()\n",
      "print password_encrypted"
     ],
     "language": "python",
     "metadata": {},
     "outputs": []
    },
    {
     "cell_type": "markdown",
     "metadata": {},
     "source": [
      "[3\ubc88 \ubb38\uc81c]\u00b6\n",
      "\n",
      "range() \ud568\uc218\uc640 \uc720\uc0ac\ud55c frange() \ud568\uc218\ub97c \ub2e4\uc74c \uc870\uac74\uc744 \ucc38\uace0\ud558\uc5ec \ub9cc\ub4dc\uc2dc\uc624.\n",
      "\u20221) frange()\uc758 \uc778\uc790 \uad6c\uc131\uc740 \ub2e4\uc74c\uacfc \uac19\uc774 range\uc640 \ub3d9\uc77c\ud558\uc9c0\ub9cc \uac01 \uc778\uc218\ub4e4\uc740 \uc74c\uc218\ub97c \ubc1b\uc9c0 \uc54a\ub294\ub2e4\uace0 \uac00\uc815\ud55c\ub2e4.\n",
      "\n",
      "range(stop)\n",
      " range(start, stop[, step])\n",
      "\n",
      "\n",
      "\u20222) frange() \ud568\uc218\uc758 \uc778\uc790\uc5d0 \ub300\ud55c \uae30\ubcf8 \uc2dc\uc791(start) \uac12\uc740 0.0\uc774\uace0, \uae30\ubcf8 \ub2e8\uacc4(step) \uac12\uc740 0.1\uc774\ub2e4. \n",
      "\u20223) frange \uc0ac\uc6a9 \uc608\u25fe3-1) frange(0.5)\u25e6[0.0, 0.1, 0.2, 0.3, 0.4]\n",
      "\n",
      "\u25fe3-2) frange(1.0, 2.0)\u25e6[1.0, 1.1, 1.2, 1.3, 1.4, 1.5, 1.6, 1.7, 1.8, 1.9]\n",
      "\n",
      "\u25fe3-3) frange(2.2, 4.0, 0.5)\u25e6[2.2, 2.7, 3.2, 3.7]"
     ]
    },
    {
     "cell_type": "code",
     "collapsed": false,
     "input": [
      "def frange(stop, start=0.0, step=0.1):\n",
      "    result=[]\n",
      "    for x in range(int(start*10), int(stop*10), int(step*10)):\n",
      "        result.append(float(x)/10)\n",
      "    return result\n",
      "\n",
      "frange(2.2)"
     ],
     "language": "python",
     "metadata": {},
     "outputs": [
      {
       "metadata": {},
       "output_type": "pyout",
       "prompt_number": 66,
       "text": [
        "[0.0,\n",
        " 0.1,\n",
        " 0.2,\n",
        " 0.3,\n",
        " 0.4,\n",
        " 0.5,\n",
        " 0.6,\n",
        " 0.7,\n",
        " 0.8,\n",
        " 0.9,\n",
        " 1.0,\n",
        " 1.1,\n",
        " 1.2,\n",
        " 1.3,\n",
        " 1.4,\n",
        " 1.5,\n",
        " 1.6,\n",
        " 1.7,\n",
        " 1.8,\n",
        " 1.9,\n",
        " 2.0,\n",
        " 2.1]"
       ]
      }
     ],
     "prompt_number": 66
    },
    {
     "cell_type": "markdown",
     "metadata": {},
     "source": [
      "\uc778\uc218 \uae30\ubcf8\uac12\uc744 \uc815\ud558\uace0 range \uae30\ubc18\uc73c\ub85c 10\uc744 \uacf1\ud558\uc5ec \ub2e4\uc2dc \uadf8 \uacb0\uacfc\uac12\uc744 10\uc744 \ub098\ub204\uc5b4 \ucd9c\ub825\ud558\ub294 \ud615\ud0dc\ub85c \uc791\uc131 \ud558\uc600\uc2b5\ub2c8\ub2e4."
     ]
    },
    {
     "cell_type": "markdown",
     "metadata": {},
     "source": [
      "[4\ubc88 \ubb38\uc81c]\n",
      "\n",
      "\uac00\ubcc0\uc778\uc218\ub97c \ubc1b\ub294 \ud568\uc218 sum()\uc744 \ub2e4\uc74c\uacfc \uac19\uc740 \uc870\uac74\uc744 \ucc38\uace0\ud558\uc5ec \uad6c\ud604\ud558\uc2dc\uc624"
     ]
    },
    {
     "cell_type": "code",
     "collapsed": false,
     "input": [
      "def sum(a=0, *arg):\n",
      "    temp = a\n",
      "    for x in arg:\n",
      "        temp += x\n",
      "    print temp\n",
      "\n",
      "sum()\n",
      "sum(1,2)\n",
      "sum(1,2,3,4,5)\n",
      "sum(1,5,7,2,-10)"
     ],
     "language": "python",
     "metadata": {},
     "outputs": [
      {
       "output_type": "stream",
       "stream": "stdout",
       "text": [
        "0\n",
        "3\n",
        "15\n",
        "5\n"
       ]
      }
     ],
     "prompt_number": 7
    },
    {
     "cell_type": "markdown",
     "metadata": {},
     "source": [
      "sum\uc774\ub77c\ub294 \ud568\uc218\uc5d0 a\ub294 \uae30\ucd08\uc801\uc73c\ub85c 0\uc774 \uc785\ub825\ub418\ub3c4\ub85d \ub9cc\ub4e4\uace0 \uac00\ubcc0\uc778\uc218\ub97c \ubc1b\ub294 \ud568\uc218\ub97c \ub9cc\ub4e4\uc5b4\uc11c arg\ub294 \ud29c\ud50c\ub85c \ubc1b\uc73c\ub2c8 \ubc18\ubcf5\ubb38\uc744 \uc774\uc6a9\ud558\uc5ec \uc784\uc2dc\uacf5\uac04 temp\uc5d0 \uac01\uac01\uc744 \uc800\uc7a5\ud558\uc5ec \ucd9c\ub825\uc774 \uac00\ub2a5\ud558\ub3c4\ub85d \ud558\uc600\uc2b5\ub2c8\ub2e4."
     ]
    },
    {
     "cell_type": "markdown",
     "metadata": {},
     "source": [
      "[5\ubc88 \ubb38\uc81c]\u00b6\n",
      "\n",
      "\uc5ec\ub7ec \ub2e8\uc5b4\ub85c \uc774\ub8e8\uc5b4\uc9c4 \ubb38\uc790\uc5f4\uc744 \uc785\ub825\ubc1b\uc544 \uac01 \ub2e8\uc5b4\uc758 \uccab\uae00\uc790\ub85c \uc774\ub8e8\uc5b4\uc9c4 \ub2e8\uc5b4\ub97c \ub300\ubb38\uc790\ub85c \ucd9c\ub825\ud558\ub294 myinitial() \ud568\uc218\ub97c \ub2e4\uc74c \uc870\uac74\uc744 \ucc38\uace0\ud558\uc5ec \uc791\uc131\ud558\uc2dc\uc624.\n",
      "\u20221) \ub2e4\uc74c\uc5d0 \uc81c\uc2dc\ub418\ub294 \ud568\uc218\ub4e4\uc744 \ubaa8\ub450 \uc774\uc6a9\ud574\uc57c \ud55c\ub2e4. \u25fesplit\n",
      "\u25femap\n",
      "\u25fejoin\n",
      "\n",
      "\u20222) myinitial() \ud568\uc218 \uc0ac\uc6a9 \uc608\u25femyinitial(\"as soon as possible\")\u25e6ASAP"
     ]
    },
    {
     "cell_type": "code",
     "collapsed": false,
     "input": [
      "def myf(x):\n",
      "    return x[0:1]\n",
      "\n",
      "def myinitial(string):\n",
      "    string = string.upper()\n",
      "    string = string.split()\n",
      "    y = map(myf, string)\n",
      "    print \"\".join(y)\n",
      "\n",
      "myinitial(\"as a as\")\n",
      "myinitial(\"as soon as possible\")"
     ],
     "language": "python",
     "metadata": {},
     "outputs": [
      {
       "output_type": "stream",
       "stream": "stdout",
       "text": [
        "AAA\n",
        "ASAP\n"
       ]
      }
     ],
     "prompt_number": 16
    },
    {
     "cell_type": "markdown",
     "metadata": {},
     "source": [
      "\ud568\uc218\ub97c 2\uac1c\ub97c \uc0ac\uc6a9\ud588\uc2b5\ub2c8\ub2e4. \ud558\ub098\ub294 myf\ub77c\uace0 \uc81c\uc77c \ucc98\uc74c \ub2e8\uc5b4\ub9cc \ucd94\ucd9c\ud558\ub294 \ud568\uc218\uc640 \ubb38\uc81c\uc5d0\uc11c \uc81c\uc2dc\ud55c myinitial\uc744 2\uac1c \ub9cc\ub4e4\uc5b4\uc11c myinitial\ud568\uc218\uc5d0 \uc778\uc790\ub97c \ub300\ubb38\uc790\ud654 \uc2dc\ud0a4\uace0 split\uc2dc\ucf1c\uc11c map\uc744 \uc774\uc6a9\ud558\uc5ec myf\ud568\uc218\uc5d0 string \ub9ac\uc2a4\ud2b8\ub97c \uc2dc\ud000\uc2a4 \uc790\ub8cc\ud615\uc774 \uc9c0\ub2cc \uac01 \uc6d0\uc18c\uac12\ub4e4\uc5d0 \ub300\ud574\uc11c myf \ud568\uc218\ub97c \uc801\uc6a9 \uc2dc\ud0a8 \uac12\uc744 y\uc5d0 \ub123\uace0 \uadf8\uac83\uc744 \uacf5\ubc31\uc5d0 \ud558\ub098\uc529 \ucd94\uac00\ud558\uc5ec \ucd9c\ub825\ud558\ub3c4\ub85d \ud558\uc600\uc2b5\ub2c8\ub2e4."
     ]
    },
    {
     "cell_type": "markdown",
     "metadata": {},
     "source": [
      "[6\ubc88 \ubb38\uc81c]\n",
      "\n",
      "\uc74c\uc774 \uc544\ub2cc \uc815\uc218 n\ub97c \uc785\ub825\ubc1b\uc73c\uba74 n! (factorial)\uc744 \uacc4\uc0b0\ud558\ub294 myfact() \ud568\uc218\ub97c \uc7ac\uadc0\uc801 \ud568\uc218\ub85c \uad6c\ud604\ud558\uc2dc\uc624.\n",
      "\u2022[\uc635\uc158] \ucc38\uc744 \uc218 \uc788\ub294 \uc815\ub3c4 \ub9cc\ud07c\uc758 \uc218\ud589\uc2dc\uac04\uc744 \uc9c1\uc811 \uae30\ub2e4\ub824\ubcf4\uba74\uc11c n\uc744 \ub298\ub824\ubcf4\ub3c4\ub85d \ud569\uc2dc\ub2e4. "
     ]
    },
    {
     "cell_type": "code",
     "collapsed": false,
     "input": [
      "def myfact(x):\n",
      "    if x is 1:\n",
      "        return 1\n",
      "    else :\n",
      "        return x * myfact(x-1)\n",
      "\n",
      "myfact(970)"
     ],
     "language": "python",
     "metadata": {},
     "outputs": [
      {
       "metadata": {},
       "output_type": "pyout",
       "prompt_number": 35,
       "text": [
        "624378448084887421644276201155371533813133314513778956917043307954013553132286811826025304811291633557445216594235399137244339393795243224427063983876922784092579744124380439498494658632716356848811265585390382928484805264930169381830115393037386478109012171760802289990019606320780552848845073761304625052828713075853765547432965477281763340038377550466750173593503750707432867491253901093982460559410003397289052947322239374968688088639356136290084960149561545520325604931221916812135894937033928240023961230356221467070810660270132044553051260073829383061969098258045215797992182852056048353341694779275000418658626804442001691484238771002483669634781878605295515735007721908919459799309190107679272344843823964534440336597903698357729156443483749076912720659622827374789323582049812176096366069477761877901516839444314656639379126077282532681401267830145558406021129449285682947075296240068938491649103962476780899355295542139743684510969451431409301748250731123114068905685054525881900559263029833993605002278952996771600751079971965873927323920441389702408716311217303425953072887205469228774170118516446231773205195835624917249880923644456063746553627860471658875302287828747482742927434568234616519058217489830426652923200955809214626066240335462642317684331568902556746920968263297620660683769257581848467674955363836082944502913976998258096660338555290108289441078225963016837980899314505405819657992123732066572274141215664206345082645012633405986571080348166661550465164164960425654533382860979588238095967780755801727588418015480579360240143193377950778867559543479943151746405775611383940806461013428431014933324442979136735380301307617660552072764805498670449839937529975812250680529849855453692705622147264686591187657957621181015112926208668099202424573984709670582022555885894416485771186743797224720662386711540374919439786160945814158455404886511156204197532219352675018387872658281176235654557364451762863778772605084586657991222729020724728065248216087546705857154630586338312076278588904760594220165099331125795362936468777164964334863763875770043074903465797978697941512245974456185398872757827165928773724186608349312394648057865605990913256692226881136034892813403651911707785133327961290546321145712680766537728000000000000000000000000000000000000000000000000000000000000000000000000000000000000000000000000000000000000000000000000000000000000000000000000000000000000000000000000000000000000000000000000000000000000000000000000000000000000000000000000L"
       ]
      }
     ],
     "prompt_number": 35
    },
    {
     "cell_type": "markdown",
     "metadata": {},
     "source": [
      "\uc7ac\uadc0\uc801\uc73c\ub85c 970\uae4c\uc9c0\ub294 \ub418\ub294\uac70 \uac19\uc2b5\ub2c8\ub2e4."
     ]
    },
    {
     "cell_type": "markdown",
     "metadata": {},
     "source": [
      "[7\ubc88 \ubb38\uc81c]\n",
      "\n",
      "(\uc11c\uc220\ud615) import string \uacfc from string import * \uc758 \ucc28\uc774\uc810\uc744 \uc124\uba85\ud558\uc2dc\uc624."
     ]
    },
    {
     "cell_type": "markdown",
     "metadata": {},
     "source": [
      "import string\uc740 string \ub0b4\uc7a5\ubaa8\ub4c8\uc744 \uac00\uc838\uc624\ub294\uac83\uc774\uace0\n",
      "from string import *\uc740 string \ub0b4\uc7a5\ubaa8\ub4c8\ub85c\ubd80\ud130 \ubaa8\ub4e0 \uc815\ubcf4\ub97c import \uc2dc\ud0a8\ub2e4\ub294 \uc758\ubbf8\uc778\ub370\n",
      "\uc774 \ub458\uc758 \ucc28\uc774\uc810\uc740 \uae00\ub85c\ubc8c \ub124\uc784 \uc2a4\ud398\uc774\uc2a4\uac00 \ub418\ub294\uac00 \uc548\ub418\ub294\uac00 \ucc28\uc774\uc778\ub370\n",
      "\uc774 \ub458\uc758 \uc131\ub2a5\uc5d0\ub3c4 \uc57d\uac04 \ucc28\uc774\uac00 \uc788\ub2e4\uace0 \uc804\ud574\uc9c4\ub2e4. \uc65c\ub0d0\ud558\uba74 import string \uacfc from string import *\uc640 \uac19\uc740 \ub0b4\uc6a9\uc778\ub370 \uc774\uac83\uc740 \uacb0\uad6d\uc5d4 import *,\uac00 \uc544\ub2c8\ub77c \ub0b4\uc7a5 \uae30\ub2a5\ub9cc \ub530\ub85c \ubd88\ub7ec \uc62c \uc218 \uc788\uace0 \uae00\ub85c\ubc8c\ub124\uc784\uc2a4\ud398\uc774\uc2a4\ub3c4 \ud560\uc218\uc788\uae30 \ub54c\ubb38\uc5d0 \uc880 \ub354 \ud6a8\uc728\uc801\uc73c\ub85c \uc0ac\uc6a9\ud560 \uc218 \uc788\ub2e4."
     ]
    },
    {
     "cell_type": "markdown",
     "metadata": {},
     "source": [
      "[8\ubc88 \ubb38\uc81c]\n",
      "10 \uc774\ud558\uc758 \uc18c\uc218\ub97c \ubaa8\ub450 \ub354\ud558\uba74 2 + 3 + 5 + 7 = 17 \uc774 \ub429\ub2c8\ub2e4.\n",
      "\n",
      "\uc774\ubc31\ub9cc(2,000,000) \uc774\ud558 \uc18c\uc218\uc758 \ud569\uc740 \uc5bc\ub9c8\uc785\ub2c8\uae4c?"
     ]
    },
    {
     "cell_type": "code",
     "collapsed": false,
     "input": [
      "def primenumber(rangenumber):\n",
      "    total = 2\n",
      "    for number in range(3, rangenumber):\n",
      "        pnum = True\n",
      "        for x in range(2, number):\n",
      "            if number % x == 0:\n",
      "                pnum = False\n",
      "        if pnum:\n",
      "            total += number\n",
      "    return total\n",
      "primenumber(2000000)"
     ],
     "language": "python",
     "metadata": {},
     "outputs": []
    },
    {
     "cell_type": "markdown",
     "metadata": {},
     "source": [
      "\uc18c\uc218\ub97c \uad6c\ud558\ub294 \ud504\ub85c\uadf8\ub7a8\uc744 \uc0ac\uc6a9\ud558\uc5ec 2\ubd80\ud130 \uc18c\uc218\ub77c\uace0 \uac00\uc815\ud558\uace0 \uc9dc\ub294\uac83\uc774 \ub354 \uc548\uc815\uc801\uc73c\ub85c \ub098\uc62c\uac70 \uac19\uc740\ub370 200\ub9cc\uc740 \ub3c4\uc800\ud788 \ub098\uc624\uc9c0 \uc54a\ub294\uac70 \uac19\uc2b5\ub2c8\ub2e4. \uc77c\ub2e8 \uadf8 \uc18c\uc218\ub4e4\uc758 \ud569\uc744 \uad6c\ud558\ub294 \ud504\ub85c\uadf8\ub7a8\uc744 \ub9cc\ub4e4\uc5c8\uc2b5\ub2c8\ub2e4."
     ]
    },
    {
     "cell_type": "markdown",
     "metadata": {},
     "source": [
      "[9\ubc88 \ubb38\uc81c]\n",
      "\uc544\ub798\uc640 \uac19\uc740 20\u00d720 \uaca9\uc790\uac00 \uc788\uc2b5\ub2c8\ub2e4.\n",
      "\n",
      "08 02 22 97 38 15 00 40 00 75 04 05 07 78 52 12 50 77 91 08\n",
      " 49 49 99 40 17 81 18 57 60 87 17 40 98 43 69 48 04 56 62 00\n",
      " 81 49 31 73 55 79 14 29 93 71 40 67 53 88 30 03 49 13 36 65\n",
      " 52 70 95 23 04 60 11 42 69 24 68 56 01 32 56 71 37 02 36 91\n",
      " 22 31 16 71 51 67 63 89 41 92 36 54 22 40 40 28 66 33 13 80\n",
      " 24 47 32 60 99 03 45 02 44 75 33 53 78 36 84 20 35 17 12 50\n",
      " 32 98 81 28 64 23 67 10 26 38 40 67 59 54 70 66 18 38 64 70\n",
      " 67 26 20 68 02 62 12 20 95 63 94 39 63 08 40 91 66 49 94 21\n",
      " 24 55 58 05 66 73 99 26 97 17 78 78 96 83 14 88 34 89 63 72\n",
      " 21 36 23 09 75 00 76 44 20 45 35 14 00 61 33 97 34 31 33 95\n",
      " 78 17 53 28 22 75 31 67 15 94 03 80 04 62 16 14 09 53 56 92\n",
      " 16 39 05 42 96 35 31 47 55 58 88 24 00 17 54 24 36 29 85 57\n",
      " 86 56 00 48 35 71 89 07 05 44 44 37 44 60 21 58 51 54 17 58\n",
      " 19 80 81 68 05 94 47 69 28 73 92 13 86 52 17 77 04 89 55 40\n",
      " 04 52 08 83 97 35 99 16 07 97 57 32 16 26 26 79 33 27 98 66\n",
      " 88 36 68 87 57 62 20 72 03 46 33 67 46 55 12 32 63 93 53 69\n",
      " 04 42 16 73 38 25 39 11 24 94 72 18 08 46 29 32 40 62 76 36\n",
      " 20 69 36 41 72 30 23 88 34 62 99 69 82 67 59 85 74 04 36 16\n",
      " 20 73 35 29 78 31 90 01 74 31 49 71 48 86 81 16 23 57 05 54\n",
      " 01 70 54 71 83 51 54 69 16 92 33 48 61 43 52 01 89 19 67 48 \n",
      "\n",
      "\uc704\uc5d0\uc11c \ub300\uac01\uc120 \ubc29\ud5a5\uc73c\ub85c \uc5f0\uc18d\ub41c \ubd89\uc740 \uc22b\uc790 \ub124 \uac1c\uc758 \uacf1\uc740 26 \u00d7 63 \u00d7 78 \u00d7 14 = 1788696 \uc785\ub2c8\ub2e4.\n",
      "\n",
      "\uadf8\ub7ec\uba74 \uc218\ud3c9, \uc218\uc9c1, \ub610\ub294 \ub300\uac01\uc120 \ubc29\ud5a5\uc73c\ub85c \uc5f0\uc18d\ub41c \uc22b\uc790 \ub124 \uac1c\uc758 \uacf1 \uc911 \ucd5c\ub300\uac12\uc740 \uc5bc\ub9c8\uc785\ub2c8\uae4c?"
     ]
    },
    {
     "cell_type": "code",
     "collapsed": false,
     "input": [
      "numlist = []\n",
      "maximumnum = 0\n",
      "\n",
      "numlist.append(\"08 02 22 97 38 15 00 40 00 75 04 05 07 78 52 12 50 77 91 08\")\n",
      "numlist.append(\"49 49 99 40 17 81 18 57 60 87 17 40 98 43 69 48 04 56 62 00\")\n",
      "numlist.append(\"81 49 31 73 55 79 14 29 93 71 40 67 53 88 30 03 49 13 36 65\")\n",
      "numlist.append(\"52 70 95 23 04 60 11 42 69 24 68 56 01 32 56 71 37 02 36 91\")\n",
      "numlist.append(\"22 31 16 71 51 67 63 89 41 92 36 54 22 40 40 28 66 33 13 80\")\n",
      "numlist.append(\"24 47 32 60 99 03 45 02 44 75 33 53 78 36 84 20 35 17 12 50\")\n",
      "numlist.append(\"32 98 81 28 64 23 67 10 26 38 40 67 59 54 70 66 18 38 64 70\")\n",
      "numlist.append(\"67 26 20 68 02 62 12 20 95 63 94 39 63 08 40 91 66 49 94 21\")\n",
      "numlist.append(\"24 55 58 05 66 73 99 26 97 17 78 78 96 83 14 88 34 89 63 72\")\n",
      "numlist.append(\"21 36 23 09 75 00 76 44 20 45 35 14 00 61 33 97 34 31 33 95\")\n",
      "numlist.append(\"78 17 53 28 22 75 31 67 15 94 03 80 04 62 16 14 09 53 56 92\")\n",
      "numlist.append(\"16 39 05 42 96 35 31 47 55 58 88 24 00 17 54 24 36 29 85 57\")\n",
      "numlist.append(\"86 56 00 48 35 71 89 07 05 44 44 37 44 60 21 58 51 54 17 58\")\n",
      "numlist.append(\"19 80 81 68 05 94 47 69 28 73 92 13 86 52 17 77 04 89 55 40\")\n",
      "numlist.append(\"04 52 08 83 97 35 99 16 07 97 57 32 16 26 26 79 33 27 98 66\")\n",
      "numlist.append(\"88 36 68 87 57 62 20 72 03 46 33 67 46 55 12 32 63 93 53 69\")\n",
      "numlist.append(\"04 42 16 73 38 25 39 11 24 94 72 18 08 46 29 32 40 62 76 36\")\n",
      "numlist.append(\"20 69 36 41 72 30 23 88 34 62 99 69 82 67 59 85 74 04 36 16\")\n",
      "numlist.append(\"20 73 35 29 78 31 90 01 74 31 49 71 48 86 81 16 23 57 05 54\")\n",
      "numlist.append(\"01 70 54 71 83 51 54 69 16 92 33 48 61 43 52 01 89 19 67 48\")\n",
      " \n",
      "num = [i.split() for i in numlist]\n",
      "num = [[int(j) for j in i] for i in num]\n",
      "\n",
      "for i in range(16):\n",
      "    for j in range(16):\n",
      "        result = num[i][j]*num[i+1][j+1]*num[i+2][j+2]*num[i+3][j+3]\n",
      "        if result > maximumnum: \n",
      "            maximumnum = result\n",
      "for i in range(3,20):\n",
      "    for j in range(16):\n",
      "        result = num[i][j]*num[i-1][j+1]*num[i-2][j+2]*num[i-3][j+3]\n",
      "        if result > maximumnum: \n",
      "            maximumnum = result\n",
      " \n",
      "for i in range(20):\n",
      "    for j in range(16):\n",
      "        result = num[i][j]*num[i][j+1]*num[i][j+2]*num[i][j+3]\n",
      "        if result > maximumnum: \n",
      "            maximumnum = result\n",
      "        result = num[j][i]*num[j+1][i]*num[j+2][i]*num[j+3][i]\n",
      "        if result > maximumnum: \n",
      "            maximumnum = result\n",
      "            \n",
      "print maximumnum"
     ],
     "language": "python",
     "metadata": {},
     "outputs": [
      {
       "output_type": "stream",
       "stream": "stdout",
       "text": [
        "70600674\n"
       ]
      }
     ],
     "prompt_number": 11
    },
    {
     "cell_type": "markdown",
     "metadata": {},
     "source": [
      "8\ubc88 \ubb38\uc81c\uc640 \uc720\uc0ac\ud55c\ub370 \uc774 \uc218\ub4e4\uc744 \uac01\uac01 \ubd84\ub9ac\uc2dc\ucf1c \uc815\uc218\ub85c \ub9cc\ub4e0\ub2e4\uc74c\uc5d0 2\ucc28\uc6d0 \ubc30\uc5f4 \ube44\uc2b7\ud558\uac8c \ub9cc\ub4e4\uc5b4 \ub300\uac01\uc120\ub07c\ub9ac\uc758 \uc5f0\uc0b0\uc73c\ub85c \ucd5c\ub300\uac12\uc744 \uad6c\ud558\uace0 \uc88c\uc6b0\uc0c1\ud558\uc758 \uc5f0\uc0b0\uc744 \ud1b5\ud558\uc5ec \uac00\uc7a5 \ud070 \uac12\uc744 \ucd9c\ub825 \uc2dc\ud0a4\uba74 \uacb0\uacfc\uac00 \ub098\uc635\ub2c8\ub2e4."
     ]
    },
    {
     "cell_type": "markdown",
     "metadata": {},
     "source": [
      "[10\ubc88 \ubb38\uc81c]\n",
      "1\ubd80\ud130 n\uae4c\uc9c0\uc758 \uc790\uc5f0\uc218\ub97c \ucc28\ub840\ub85c \ub354\ud558\uc5ec \uad6c\ud574\uc9c4 \uac12\uc744 \uc0bc\uac01\uc218\ub77c\uace0 \ud569\ub2c8\ub2e4.\n",
      "\uc608\ub97c \ub4e4\uc5b4 7\ubc88\uc9f8 \uc0bc\uac01\uc218\ub294 1 + 2 + 3 + 4 + 5 + 6 + 7 = 28\uc774 \ub429\ub2c8\ub2e4.\n",
      "\uc774\ub7f0 \uc2dd\uc73c\ub85c \uc0bc\uac01\uc218\ub97c \uad6c\ud574 \ub098\uac00\uba74 \ub2e4\uc74c\uacfc \uac19\uc2b5\ub2c8\ub2e4.\n",
      "\n",
      "1, 3, 6, 10, 15, 21, 28, 36, 45, 55, ...\n",
      "\n",
      "\uc774 \uc0bc\uac01\uc218\ub4e4\uc758 \uc57d\uc218\ub97c \uad6c\ud574\ubd05\uc2dc\ub2e4.\n",
      "\n",
      " 1: 1\n",
      " 3: 1, 3\n",
      " 6: 1, 2, 3, 6\n",
      "10: 1, 2, 5, 10\n",
      "15: 1, 3, 5, 15\n",
      "21: 1, 3, 7, 21\n",
      "28: 1, 2, 4, 7, 14, 28 \n",
      "\n",
      "\uc704\uc5d0\uc11c \ubcf4\ub4ef\uc774, 5\uac1c \uc774\uc0c1\uc758 \uc57d\uc218\ub97c \uac16\ub294 \uccab\ubc88\uc9f8 \uc0bc\uac01\uc218\ub294 28\uc785\ub2c8\ub2e4.\n",
      "\n",
      "\uadf8\ub7ec\uba74 500\uac1c \uc774\uc0c1\uc758 \uc57d\uc218\ub97c \uac16\ub294 \uac00\uc7a5 \uc791\uc740 \uc0bc\uac01\uc218\ub294 \uc5bc\ub9c8\uc785\ub2c8\uae4c?"
     ]
    },
    {
     "cell_type": "code",
     "collapsed": false,
     "input": [],
     "language": "python",
     "metadata": {},
     "outputs": []
    },
    {
     "cell_type": "markdown",
     "metadata": {},
     "source": [
      "[11\ubc88 \ubb38\uc81c] \uc544\ub798\uc5d0 50\uc790\ub9ac \uc22b\uc790\uac00 100\uac1c \uc788\uc2b5\ub2c8\ub2e4. \uc774\uac83\uc744 \ubaa8\ub450 \ub354\ud55c \uac12\uc758 \uccab 10\uc790\ub9ac\ub294 \uc5bc\ub9c8\uc785\ub2c8\uae4c?"
     ]
    },
    {
     "cell_type": "code",
     "collapsed": false,
     "input": [
      "num = \"37107287533902102798797998220837590246510135740250\\n\\\n",
      "46376937677490009712648124896970078050417018260538\\n\\\n",
      "74324986199524741059474233309513058123726617309629\\n\\\n",
      "91942213363574161572522430563301811072406154908250\\n\\\n",
      "23067588207539346171171980310421047513778063246676\\n\\\n",
      "89261670696623633820136378418383684178734361726757\\n\\\n",
      "28112879812849979408065481931592621691275889832738\\n\\\n",
      "44274228917432520321923589422876796487670272189318\\n\\\n",
      "47451445736001306439091167216856844588711603153276\\n\\\n",
      "70386486105843025439939619828917593665686757934951\\n\\\n",
      "62176457141856560629502157223196586755079324193331\\n\\\n",
      "64906352462741904929101432445813822663347944758178\\n\\\n",
      "92575867718337217661963751590579239728245598838407\\n\\\n",
      "58203565325359399008402633568948830189458628227828\\n\\\n",
      "80181199384826282014278194139940567587151170094390\\n\\\n",
      "35398664372827112653829987240784473053190104293586\\n\\\n",
      "86515506006295864861532075273371959191420517255829\\n\\\n",
      "71693888707715466499115593487603532921714970056938\\n\\\n",
      "54370070576826684624621495650076471787294438377604\\n\\\n",
      "53282654108756828443191190634694037855217779295145\\n\\\n",
      "36123272525000296071075082563815656710885258350721\\n\\\n",
      "45876576172410976447339110607218265236877223636045\\n\\\n",
      "17423706905851860660448207621209813287860733969412\\n\\\n",
      "81142660418086830619328460811191061556940512689692\\n\\\n",
      "51934325451728388641918047049293215058642563049483\\n\\\n",
      "62467221648435076201727918039944693004732956340691\\n\\\n",
      "15732444386908125794514089057706229429197107928209\\n\\\n",
      "55037687525678773091862540744969844508330393682126\\n\\\n",
      "18336384825330154686196124348767681297534375946515\\n\\\n",
      "80386287592878490201521685554828717201219257766954\\n\\\n",
      "78182833757993103614740356856449095527097864797581\\n\\\n",
      "16726320100436897842553539920931837441497806860984\\n\\\n",
      "48403098129077791799088218795327364475675590848030\\n\\\n",
      "87086987551392711854517078544161852424320693150332\\n\\\n",
      "59959406895756536782107074926966537676326235447210\\n\\\n",
      "69793950679652694742597709739166693763042633987085\\n\\\n",
      "41052684708299085211399427365734116182760315001271\\n\\\n",
      "65378607361501080857009149939512557028198746004375\\n\\\n",
      "35829035317434717326932123578154982629742552737307\\n\\\n",
      "94953759765105305946966067683156574377167401875275\\n\\\n",
      "88902802571733229619176668713819931811048770190271\\n\\\n",
      "25267680276078003013678680992525463401061632866526\\n\\\n",
      "36270218540497705585629946580636237993140746255962\\n\\\n",
      "24074486908231174977792365466257246923322810917141\\n\\\n",
      "91430288197103288597806669760892938638285025333403\\n\\\n",
      "34413065578016127815921815005561868836468420090470\\n\\\n",
      "23053081172816430487623791969842487255036638784583\\n\\\n",
      "11487696932154902810424020138335124462181441773470\\n\\\n",
      "63783299490636259666498587618221225225512486764533\\n\\\n",
      "67720186971698544312419572409913959008952310058822\\n\\\n",
      "95548255300263520781532296796249481641953868218774\\n\\\n",
      "76085327132285723110424803456124867697064507995236\\n\\\n",
      "37774242535411291684276865538926205024910326572967\\n\\\n",
      "23701913275725675285653248258265463092207058596522\\n\\\n",
      "29798860272258331913126375147341994889534765745501\\n\\\n",
      "18495701454879288984856827726077713721403798879715\\n\\\n",
      "38298203783031473527721580348144513491373226651381\\n\\\n",
      "34829543829199918180278916522431027392251122869539\\n\\\n",
      "40957953066405232632538044100059654939159879593635\\n\\\n",
      "29746152185502371307642255121183693803580388584903\\n\\\n",
      "41698116222072977186158236678424689157993532961922\\n\\\n",
      "62467957194401269043877107275048102390895523597457\\n\\\n",
      "23189706772547915061505504953922979530901129967519\\n\\\n",
      "86188088225875314529584099251203829009407770775672\\n\\\n",
      "11306739708304724483816533873502340845647058077308\\n\\\n",
      "82959174767140363198008187129011875491310547126581\\n\\\n",
      "97623331044818386269515456334926366572897563400500\\n\\\n",
      "42846280183517070527831839425882145521227251250327\\n\\\n",
      "55121603546981200581762165212827652751691296897789\\n\\\n",
      "32238195734329339946437501907836945765883352399886\\n\\\n",
      "75506164965184775180738168837861091527357929701337\\n\\\n",
      "62177842752192623401942399639168044983993173312731\\n\\\n",
      "32924185707147349566916674687634660915035914677504\\n\\\n",
      "99518671430235219628894890102423325116913619626622\\n\\\n",
      "73267460800591547471830798392868535206946944540724\\n\\\n",
      "76841822524674417161514036427982273348055556214818\\n\\\n",
      "97142617910342598647204516893989422179826088076852\\n\\\n",
      "87783646182799346313767754307809363333018982642090\\n\\\n",
      "10848802521674670883215120185883543223812876952786\\n\\\n",
      "71329612474782464538636993009049310363619763878039\\n\\\n",
      "62184073572399794223406235393808339651327408011116\\n\\\n",
      "66627891981488087797941876876144230030984490851411\\n\\\n",
      "60661826293682836764744779239180335110989069790714\\n\\\n",
      "85786944089552990653640447425576083659976645795096\\n\\\n",
      "66024396409905389607120198219976047599490197230297\\n\\\n",
      "64913982680032973156037120041377903785566085089252\\n\\\n",
      "16730939319872750275468906903707539413042652315011\\n\\\n",
      "94809377245048795150954100921645863754710598436791\\n\\\n",
      "78639167021187492431995700641917969777599028300699\\n\\\n",
      "15368713711936614952811305876380278410754449733078\\n\\\n",
      "40789923115535562561142322423255033685442488917353\\n\\\n",
      "44889911501440648020369068063960672322193204149535\\n\\\n",
      "41503128880339536053299340368006977710650566631954\\n\\\n",
      "81234880673210146739058568557934581403627822703280\\n\\\n",
      "82616570773948327592232845941706525094512325230608\\n\\\n",
      "22918802058777319719839450180888072429661980811197\\n\\\n",
      "77158542502016545090413245809786882778948721859617\\n\\\n",
      "72107838435069186155435662884062257473692284509516\\n\\\n",
      "20849603980134001723930671666823555245252804609722\\n\\\n",
      "53503534226472524250874054075591789781264330331690\"\n",
      " \n",
      "result = [int(i) for i in num.split(\"\\n\")]\n",
      "total = sum(result)\n",
      "\n",
      "print str(total)[0:10]\n"
     ],
     "language": "python",
     "metadata": {},
     "outputs": [
      {
       "output_type": "stream",
       "stream": "stdout",
       "text": [
        "5537376230\n"
       ]
      }
     ],
     "prompt_number": 13
    },
    {
     "cell_type": "markdown",
     "metadata": {},
     "source": [
      "\ub9ac\uc2a4\ud2b8\ub0b4\ud3ec\ub97c \ud1b5\ud574 \uac1c\ud589\ubb38\uc790\ub85c split\ub97c \ud558\uc5ec \uadf8 \ubb38\uc790\uc5f4\uc744 \uc815\uc218\ud615\uc73c\ub85c \ubcc0\ud658\ud558\uace0 \uadf8 \ub9ac\uc2a4\ud2b8\ub4e4\uc744 \ubaa8\ub450 \ub354\ud558\uace0 \uadf8 \uacb0\uacfc\uc758 10\uc790\ub9ac\ub9cc \ub098\ud0c0\ub0b4\ub3c4\ub85d \ud558\uc600\uc2b5\ub2c8\ub2e4."
     ]
    },
    {
     "cell_type": "markdown",
     "metadata": {},
     "source": [
      "[12\ubc88 \ubb38\uc81c] \uc591\uc758 \uc815\uc218 n\uc5d0 \ub300\ud558\uc5ec, \ub2e4\uc74c\uacfc \uac19\uc740 \uacc4\uc0b0 \uacfc\uc815\uc744 \ubc18\ubcf5\ud558\uae30\ub85c \ud569\ub2c8\ub2e4.\n",
      "\n",
      "n \u2192 n / 2  (n\uc774 \uc9dd\uc218\uc77c \ub54c)\n",
      "n \u2192 3 n + 1 (n\uc774 \ud640\uc218\uc77c \ub54c)\n",
      "\n",
      "13\uc5d0 \ub300\ud558\uc5ec \uc704\uc758 \uaddc\uce59\uc744 \uc801\uc6a9\ud574\ubcf4\uba74 \uc544\ub798\ucc98\ub7fc 10\ubc88\uc758 \uacfc\uc815\uc744 \ud1b5\ud574 1\uc774 \ub429\ub2c8\ub2e4.\n",
      "\n",
      "13 \u2192 40 \u2192 20 \u2192 10 \u2192 5 \u2192 16 \u2192 8 \u2192 4 \u2192 2 \u2192 1\n",
      "\n",
      "\uc544\uc9c1 \uc99d\uba85\uc740 \ub418\uc9c0 \uc54a\uc558\uc9c0\ub9cc, \uc774\ub7f0 \uacfc\uc815\uc744 \uac70\uce58\uba74 \uc5b4\ub5a4 \uc218\ub85c \uc2dc\uc791\ud574\ub3c4 \ub9c8\uc9c0\ub9c9\uc5d0\ub294 1\ub85c \ub05d\ub098\ub9ac\ub77c \uc0dd\uac01\ub429\ub2c8\ub2e4. \n",
      "(\uc5ed\uc8fc: \uc774\uac83\uc740 \ucf5c\ub77c\uce20 \ucd94\uce21 Collatz Conjecture\uc774\ub77c\uace0 \ud558\uba70, \uc774\ub7f0 \uc218\ub4e4\uc744 \uc6b0\ubc15\uc218 hailstone sequence\ub77c \ubd80\ub974\uae30\ub3c4 \ud569\ub2c8\ub2e4)\n",
      "\n",
      "\uadf8\ub7ec\uba74, \ubc31\ub9cc(1,000,000) \uc774\ud558\uc758 \uc218\ub85c \uc2dc\uc791\ud588\uc744 \ub54c 1\uae4c\uc9c0 \ub3c4\ub2ec\ud558\ub294\ub370 \uac00\uc7a5 \uae34 \uacfc\uc815\uc744 \uac70\uce58\ub294 \uc22b\uc790\ub294 \uc5bc\ub9c8\uc785\ub2c8\uae4c?\n",
      "\n",
      "\ucc38\uace0: \uacc4\uc0b0 \uacfc\uc815 \ub3c4\uc911\uc5d0\ub294 \uc22b\uc790\uac00 \ubc31\ub9cc\uc744 \ub118\uc5b4\uac00\ub3c4 \uad1c\ucc2e\uc2b5\ub2c8\ub2e4.\n"
     ]
    },
    {
     "cell_type": "code",
     "collapsed": false,
     "input": [
      "def Collatz(num):\n",
      "    count = 1\n",
      "    while num > 1:\n",
      "        count += 1\n",
      "        if not num%2:\n",
      "            num /= 2\n",
      "        else:\n",
      "            num = 3*num+1\n",
      "    return count\n",
      "\n",
      "result = 0\n",
      "result_count = 0\n",
      "\n",
      "for i in range(1000000):\n",
      "    x = Collatz(i)\n",
      "    if x > result_count:\n",
      "        result = i\n",
      "        result_count = x\n",
      "\n",
      "print result, result_count"
     ],
     "language": "python",
     "metadata": {},
     "outputs": [
      {
       "output_type": "stream",
       "stream": "stdout",
       "text": [
        "837799 525\n"
       ]
      }
     ],
     "prompt_number": 18
    },
    {
     "cell_type": "markdown",
     "metadata": {},
     "source": [
      "\uc9dd\uc218\uc77c\ub54c\uc640 \ud640\uc218\uc77c\ub54c \uc5f0\uc0b0\uc744 \ub098\ub204\uace0 \uadf8 \ud69f\uc218\ub97c \ube44\uad50\ud558\uc5ec \uc81c\uc77c \ud070 \ud69f\uc218\uc77c\ub54c\uc758 \uc218\uc640 \uadf8 \uc81c\uc77c \ud070 \ud69f\uc218\ub97c \ucd9c\ub825 \ud558\ub3c4\ub85d \ub9cc\ub4e4\uc5c8\uc2b5\ub2c8\ub2e4. \uc2dd\uc744 \uc774\ud574\ud558\ub294\uac83\ubcf4\ub2e4 \ubb38\uc81c\ub97c \uc774\ud574\ud558\uace0 \uadf8\uac83\ub300\ub85c \ud558\ub294\uac83\uc774 \uc911\uc694\ud55c\uac70 \uac19\uc2b5\ub2c8\ub2e4. \uc2dd\uc744 \uc774\ud574\ud558\ub824\ud558\ub2c8 \uc2dc\uac04\ub9cc \ub0ad\ube44.."
     ]
    },
    {
     "cell_type": "markdown",
     "metadata": {},
     "source": [
      "[13\ubc88 \ubb38\uc81c] \uc544\ub798\uc640 \uac19\uc740 2 \u00d7 2 \uaca9\uc790\uc758 \uc67c\ucabd \uc704 \ubaa8\uc11c\ub9ac\uc5d0\uc11c \ucd9c\ubc1c\ud558\uc5ec \uc624\ub978\ucabd \uc544\ub798 \ubaa8\uc11c\ub9ac\uae4c\uc9c0 \ub3c4\ub2ec\ud558\ub294 \uae38\uc740 \ubaa8\ub450 6\uac00\uc9c0\uac00 \uc788\uc2b5\ub2c8\ub2e4 (\uac70\uc2ac\ub7ec \uac00\uc9c0\ub294 \uc54a\uae30\ub85c \ud569\ub2c8\ub2e4).\n",
      "\n",
      "\n",
      "\n",
      "\uadf8\ub7ec\uba74 20 \u00d7 20 \uaca9\uc790\uc5d0\ub294 \ubaa8\ub450 \uba87 \uac1c\uc758 \uacbd\ub85c\uac00 \uc788\uc2b5\ub2c8\uae4c?"
     ]
    },
    {
     "cell_type": "code",
     "collapsed": false,
     "input": [
      "def myfact(x):\n",
      "    if x is 1:\n",
      "        return 1\n",
      "    else :\n",
      "        return x * myfact(x-1)\n",
      "\n",
      "print myfact(40) / (myfact(20) * myfact(20))"
     ],
     "language": "python",
     "metadata": {},
     "outputs": [
      {
       "output_type": "stream",
       "stream": "stdout",
       "text": [
        "137846528820\n"
       ]
      }
     ],
     "prompt_number": 19
    },
    {
     "cell_type": "markdown",
     "metadata": {},
     "source": [
      "\uc774 \ubb38\uc81c\ub294 \ub2e8\uc21c\ud558\uac8c \uc870\ud569\ubb38\uc81c\uc774\ubbc0\ub85c \uc2dc\uc791\uc810\ubd80\ud130 \ub05d\uc810\uae4c\uc9c0 \uac08\uc218 \uc788\ub294 \ucd5c\ub300 \ubc18\uacbd\uc778 \uc624\ub978\ucabd\uc73c\ub85c 20\ubc88 \uc544\ub798\ub85c 20\ubc88 \uc6c0\uc9c1\uc77c\uc218 \uc788\uc73c\ubbc0\ub85c 40, \uadf8\ub9ac\uace0 \uc624\ub978\ucabd\uc73c\ub85c 20\ubc88 \uc6c0\uc9c1\uc77c\uc218 \uc788\uc73c\ubbc0\ub85c C(40, 20)\uc774 \ub2f5\uc785\ub2c8\ub2e4. \uc989, 40!/(20! * (40-20)!) \uc785\ub2c8\ub2e4.\ud329\ud1a0\ub9ac\uc5bc \ud568\uc218\ub294 \uc704\uc5d0 \uc7ac\uadc0\ub85c \ub9cc\ub4e0\uac83\uc744 \uc7ac\ud65c\uc6a9"
     ]
    },
    {
     "cell_type": "markdown",
     "metadata": {},
     "source": [
      "\uc774\ubc88 \uacfc\uc81c\ub294 \uc815\ub9d0 \uc2dc\uac04 \uad00\ub9ac\ub97c \ubabb\ud558\uc5ec \uc5c9\ub9dd\uc73c\ub85c \ud588\uc2b5\ub2c8\ub2e4. \uba87\uba87 \uacfc\uc81c\ub294 \ub3c4\uc800\ud788 \ubaa8\ub974\uaca0\uc5b4\uc11c \ubabb\ud55c \ubd80\ubd84\ub3c4 \uc788\uace0 \uc544\uc27d\uac8c \ub290\uaef4\uc9d1\ub2c8\ub2e4."
     ]
    }
   ],
   "metadata": {}
  }
 ]
}