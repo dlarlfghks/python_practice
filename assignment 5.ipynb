{
 "cells": [
  {
   "cell_type": "markdown",
   "metadata": {},
   "source": [
    "assignment 5 2008160141"
   ]
  },
  {
   "cell_type": "markdown",
   "metadata": {},
   "source": [
    "[1번 문제]\n",
    "\n",
    "클래스와 모듈의 공통점과 차이점에 대해 설명하시오."
   ]
  },
  {
   "cell_type": "markdown",
   "metadata": {},
   "source": [
    "클래스와 모듈의 공통점은 둘다 함수를 만들고 그 영역 내에 이름 공간을 구성하고 역할은 공통적으로 같지만 클래스와 모듈의 차이점은 클래스는 클래스를 정의 하는 영역 내에서 공간이 이루어지는 반면 모듈은 파일 .py를 통하여 파일 단위로 공간을 구성하고 있다 그리고 모듈같은 경우에는 import로 불러오고 클래스는 객체를 만들어서 사용한다. 마지막으로 모듈의 경우 from을 통하여 필요한 기능만 가져올수 있고, 굳이 객체를 만든거와 같이 class.XXX가 아닌 XXX로 바로 사용할수 있어 속도와 편의성면에 모듈이 장점을 지니고 있음."
   ]
  },
  {
   "cell_type": "markdown",
   "metadata": {},
   "source": [
    "[2번 문제]\n",
    "\n",
    "다형성에 대해 설명하고 다형성을 보여주는 자신만의 파이썬 코드 예제를 제시하시오."
   ]
  },
  {
   "cell_type": "code",
   "execution_count": 6,
   "metadata": {
    "collapsed": false
   },
   "outputs": [
    {
     "name": "stdout",
     "output_type": "stream",
     "text": [
      "형(이)가 때렸습니다..\n",
      "동생(이)가 칼으로 때렸습니다..\n"
     ]
    }
   ],
   "source": [
    "class A:\n",
    "    def __init__(self, name):\n",
    "        self.name = name\n",
    "    def smack(self):\n",
    "        print self.name+\"(이)가 때렸습니다..\"\n",
    "    \n",
    "class B(A):\n",
    "    def __init__(self, name, weapon):\n",
    "        A.__init__(self, name)\n",
    "        self.weapon = weapon\n",
    "    def smack(self):\n",
    "        print self.name+\"(이)가 \"+self.weapon+\"으로 때렸습니다..\"\n",
    "\n",
    "a = A('형')\n",
    "a.smack()\n",
    "b = B('동생','칼')\n",
    "b.smack()"
   ]
  },
  {
   "cell_type": "markdown",
   "metadata": {},
   "source": [
    "다형성은 위의 코드와 같이 smack이라는 함수로 설명이 가능한데 B라는 클래스는 A라는 클래스를 상속받고 있는데 A의 smack과 B의 smack의 내용은 다르다. 그래서 a와 b의 smack을 호출해보면 서로 다른 내용이 나오는데 식별되는 이름은 같지만 다른 동작을 구현이 되는데 이러한 객체의 종류와 상관없는 추상도가 높은 형식으로 구현할 수 있는것이 다형성"
   ]
  },
  {
   "cell_type": "markdown",
   "metadata": {},
   "source": [
    "[3번 문제]\n",
    "\n",
    "다음 각 요구사항 모두를 만족시키는 Counter 클래스를 코딩하시오 (정답을 각 요구사항별로 입력할 필요 없이 3번 문제에 대해 1개의 클래스 정의 코드를 제시하면 된다.)\n",
    "\n",
    "•요구사항 1. 생성자에 count 값과 step 값을 인자로 받을 수 있다.\n",
    "◾count: Counter 인스턴스가 지니는 초기 정수 값\n",
    "◾step: Counter 인스턴스의 count가 증가되는 증분 (defalt 값: 1)\n",
    "•요구사항 2. 다음과 같이 Counter의 인스턴스를 출력을 해주는 __str__() 메소드를 Counter 클래스 내에 구현하시오.\n",
    "•요구사항 3. 다음과 같이 step에 주어진 증분만큼 count를 증가시키는 incr() 메소드를 Counter 클래스 내에 구현하시오.\n",
    "•요구사항 4. Counter 클래스 내에 관련 메소드를 추가하여 인스턴스 객체를 직접 호출(call)할 수 있도록 하시오. 인스턴스 객체를 직접 호출했을 때에 내부적으로 incr() 메소드를 호출하는 방법으로 구현하시오.\n",
    "•요구사항 5. 다음과 같은 두 개의 산술 연산 (+, -)이 수행될 수 있도록 Counter 클래스 내에 관련 메소드를 추가하시오."
   ]
  },
  {
   "cell_type": "code",
   "execution_count": 1,
   "metadata": {
    "collapsed": false
   },
   "outputs": [
    {
     "name": "stdout",
     "output_type": "stream",
     "text": [
      "[Count (step: 1)] 10\n",
      "[Count (step: 2)] 10\n",
      "[Count (step: 1)] 11\n",
      "[Count (step: 2)] 12\n",
      "[Count (step: 1)] 12\n",
      "[Count (step: 2)] 14\n",
      "[Count (step: 1)] 17\n",
      "[Count (step: 2)] 9\n",
      "True\n",
      "[Count (step: 1)] 17\n",
      "True\n",
      "[Count (step: 2)] 9\n",
      "False\n",
      "False\n",
      "False\n",
      "True\n"
     ]
    }
   ],
   "source": [
    "class Counter:\n",
    "    def __init__(self, count, step=1):\n",
    "        self.count = count\n",
    "        self.step = step\n",
    "    \n",
    "    def __str__(self):\n",
    "        return \"[Count (step: \"+str(self.step)+\")] \"+str(self.count)\n",
    "    \n",
    "    def incr(self):\n",
    "        self.count += self.step\n",
    "        \n",
    "    def __call__(self):\n",
    "        self.incr()\n",
    "        \n",
    "    def __add__(self, other):\n",
    "        return \"[Count (step: \"+str(self.step)+\")] \"+str(self.count + other)\n",
    "    \n",
    "    def __sub__(self, other):\n",
    "        return \"[Count (step: \"+str(self.step)+\")] \"+str(self.count - other)\n",
    "    \n",
    "    def __cmp__(self, other):\n",
    "        return self.count - other\n",
    "\n",
    "c = Counter(10)\n",
    "d = Counter(10, 2)\n",
    "print c\n",
    "print d\n",
    "\n",
    "c.incr()\n",
    "d.incr()\n",
    "print c\n",
    "print d\n",
    "\n",
    "c()\n",
    "d()\n",
    "print c\n",
    "print d\n",
    "\n",
    "c = c + 5\n",
    "d = d - 5\n",
    "print c\n",
    "print d\n",
    "\n",
    "print c > 10\n",
    "print d > 10\n",
    "print c < 10\n",
    "print d < 10\n",
    "print c == 17\n",
    "print d != 9"
   ]
  },
  {
   "cell_type": "markdown",
   "metadata": {},
   "source": [
    "요구사항 6번까지 완료 했는데 6번에서 이해가 안가네요 결과값이 제대로 안나옵니다. 각각 개별로 정의해도 값이 변하지 않습니다. 나머지 부분은 똑같습니다."
   ]
  },
  {
   "cell_type": "markdown",
   "metadata": {},
   "source": [
    "[4번 문제]\n",
    "\n",
    "다음은 내장 자료형 list를 서브클래싱하여 만든 MySet 클래스 정의 내용이다. 다음 클래스 정의에서 __init__(), __str()__(), elimicate_duplicate()의 세 개의 메소드 코드 내용을 자신이 다른 사람에게 가르친다고 생각하며 설명해보시오.\n",
    "•MySet은 집합(Set) 자료형을 정의하려는 의도하에 만들어진 클래스이다."
   ]
  },
  {
   "cell_type": "code",
   "execution_count": 3,
   "metadata": {
    "collapsed": false
   },
   "outputs": [
    {
     "name": "stdout",
     "output_type": "stream",
     "text": [
      "MySet: {1 ,2 ,3}\n",
      "MySet: {2 ,3 ,4 ,5 ,6 ,7 ,8 ,9}\n",
      "<class '__main__.MySet'>\n"
     ]
    }
   ],
   "source": [
    "class MySet(list):\n",
    "    def __init__(self, l):\n",
    "        for e in l:\n",
    "            self.append(e)\n",
    "        MySet.eliminate_duplicate(self)\n",
    "    \n",
    "    def __str__(self):\n",
    "        result = \"MySet: {\"\n",
    "        for e in self:\n",
    "            result = result + str(e) + \" ,\"\n",
    "        result = result[0:len(result)-2] + \"}\"\n",
    "        return result\n",
    "\n",
    "    @staticmethod    \n",
    "    def eliminate_duplicate(l):\n",
    "        s = []\n",
    "        for e in l:\n",
    "            if e not in s:\n",
    "                s.append(e)\n",
    "        l[:] = []\n",
    "        for e in s:\n",
    "            l.append(e)\n",
    "\n",
    "    \n",
    "if __name__ == \"__main__\":\n",
    "    s = MySet([1, 2, 2, 3])\n",
    "    print s\n",
    "    t = MySet([2, 3, 4, 5, 6, 7, 8, 8, 8, 8, 8, 9])\n",
    "    print t"
   ]
  },
  {
   "cell_type": "markdown",
   "metadata": {},
   "source": [
    "목표는 리스트의 자료에 중복을 제거하는것이 목표입니다. 위의 코드에서는 그런 중복을 제거하는 클래스를 나타내고 있습니다. 여기서 우리는 3개의 메소드가 있습니다. 1. __init__ 2. __str__ 3. eliminate_duplicate 3개의 메소드는 각각 생성자와 print예약어에 대응되는 메소드이고 마지막은 직접 정의 해준 정적 메소드입니다. 정적 메소드는 @staticmethod의 장식자를 활용하고 있으며 이 메소드의 역할은 클래스 이름을 이용하여 직접 호출할 수 있는 메소드입니다. 즉 A.xxx나 a = A일 경우 a.xxx로 바로 호출할수 있습니다. 우리는 s와 t에 입력 받은 각각 MySet을 통하여 입력받은 리스트는 __init__인 생성자 메소드를 거치는데 여기서는 self를 통하여 값을 입력받아 eliminate_duplicate라는 정적메소드를 거치게 됩니다. 여기서는 중복되는 원소값들을 찾아내는 역할을 합니다. s라는 temp역할을 하는 리스트에 중복을 제거하고 다시 l에 그 값을 담고 self에 전달됩니다. 그 결과 print s를 통하여 __str__메소드를 호출하는데 이때는 보시는바와 같이 리스트 값을 {1, 2, 3, 4}형태로 출력을 해주고 있습니다."
   ]
  },
  {
   "cell_type": "markdown",
   "metadata": {},
   "source": [
    "[5번 문제]\n",
    "\n",
    "4번 문제에 정의된 MySet 클래스에 메소드를 추가하여 다음 각 요구사항 모두를 만족시키는 코딩을 제시하시오\n",
    "•정답을 각 요구사항별로 입력할 필요 없이 요구사항 3개 전체에 대해 1개의 MySet 클래스 정의 코드를 제시하고 주석등으로 해당 코드를 설명한다.\n",
    "\n",
    "•요구사항 1. | 연산으로 두 집합의 합집합을 반환한다."
   ]
  },
  {
   "cell_type": "code",
   "execution_count": 31,
   "metadata": {
    "collapsed": false
   },
   "outputs": [
    {
     "name": "stdout",
     "output_type": "stream",
     "text": [
      "MySet: {1 ,2 ,3}\n",
      "MySet: {2 ,3 ,4 ,5 ,6 ,7 ,8 ,9}\n",
      "MySet: {1 ,2 ,3 ,4 ,5 ,6 ,7 ,8 ,9}\n",
      "MySet: {2 ,3}\n",
      "MySet: {1 ,2 ,3}\n",
      "MySet: {3 ,4 ,5}\n",
      "MySet: {1 ,2}\n"
     ]
    }
   ],
   "source": [
    "import copy\n",
    "\n",
    "class MySet(list):\n",
    "    def __init__(self, l):\n",
    "        for e in l:\n",
    "            self.append(e)\n",
    "        MySet.eliminate_duplicate(self)\n",
    "    \n",
    "    def __str__(self):\n",
    "        result = \"MySet: {\"\n",
    "        for e in self:\n",
    "            result = result + str(e) + \" ,\"\n",
    "        result = result[0:len(result)-2] + \"}\"\n",
    "        return result\n",
    "    \n",
    "    def __or__(self, B):\n",
    "        clone = copy.deepcopy(self)\n",
    "        clone.__init__(B)\n",
    "        return clone\n",
    "    \n",
    "    def __and__(self, B):\n",
    "        clone = copy.deepcopy(self)\n",
    "        for e in clone:\n",
    "            if e not in B:\n",
    "                clone.remove(e)\n",
    "        return clone\n",
    "    \n",
    "    def __sub__(self, B):\n",
    "        clone = copy.deepcopy(self)\n",
    "        for e in clone:\n",
    "            if e in B:\n",
    "                clone.remove(e)\n",
    "        return clone\n",
    "\n",
    "\n",
    "    @staticmethod    \n",
    "    def eliminate_duplicate(l):\n",
    "        s = []\n",
    "        for e in l:\n",
    "            if e not in s:\n",
    "                s.append(e)\n",
    "        l[:] = []\n",
    "        for e in s:\n",
    "            l.append(e)\n",
    "\n",
    "    \n",
    "if __name__ == \"__main__\":\n",
    "    s = MySet([1, 2, 2, 3])\n",
    "    print s\n",
    "    t = MySet([2, 3, 4, 5, 6, 7, 8, 8, 8, 8, 8, 9])\n",
    "    print t\n",
    "    #요구사항1. u에 s|t를 담는것인데 __or__메소드를 사용했고, clone이라는 self를 훼손시키지 않고 깊은 복사를 한 뒤\n",
    "    #내부 연산을 통하여 결과값에 대한 clone의 객체를 반환시켜주는 역할을 했습니다.\n",
    "    u = s|t\n",
    "    print u\n",
    "    #요구사항2. 1번과 같이 깊은 복사를 하여 중복되는 값만 남기고 나머지 clone값은 삭제 시켜 반환 시켰습니다.\n",
    "    u = s&t\n",
    "    print u\n",
    "    #요구사항3. 2번과 같이 깊은 복사를 하고 중복되지 않는 clone값만 남기고 나머지 삭제 시켜 반환 하였습니다.\n",
    "    s = MySet([1,2,3])\n",
    "    t = MySet([3,4,5])\n",
    "    u = s-t\n",
    "    print u"
   ]
  },
  {
   "cell_type": "markdown",
   "metadata": {},
   "source": [
    "[6번 문제]\n",
    "\n",
    "5번 문제에서 정의한 MySet 클래스에 대해 다음 예제를 수행하면 오류없이 올바르게 동작하는 것을 확인할 수 있다. 다음 예제 내에 있는 len(), bool() 내장함수와 in 키워드 사용 예제가 별다른 메소드 정의를 하지 않았는 데도 올바르게 수행되는 이유를 설명하시오."
   ]
  },
  {
   "cell_type": "code",
   "execution_count": 33,
   "metadata": {
    "collapsed": false
   },
   "outputs": [
    {
     "name": "stdout",
     "output_type": "stream",
     "text": [
      "6\n",
      "True\n",
      "True\n"
     ]
    }
   ],
   "source": [
    "s = MySet([1,2,3,4,5,6])\n",
    "print len(s)\n",
    "print bool(s)\n",
    "print 2 in s"
   ]
  },
  {
   "cell_type": "markdown",
   "metadata": {},
   "source": [
    "이 함수는 모두 파이썬에 기본적으로 있는 빌트인 함수이기 때문에 동작이 되는 것이다. 파이썬 개발을 시작 할때부터 이러한 빌트인 함수들이 자동적으로 import가 되었기 때문이다."
   ]
  },
  {
   "cell_type": "markdown",
   "metadata": {},
   "source": [
    "[7번 문제]\n",
    "2^15 = 32768 의 각 자리수를 더하면 3 + 2 + 7 + 6 + 8 = 26 입니다.\n",
    "\n",
    "2^1000의 각 자리수를 모두 더하면 얼마입니까?"
   ]
  },
  {
   "cell_type": "code",
   "execution_count": 43,
   "metadata": {
    "collapsed": false
   },
   "outputs": [
    {
     "name": "stdout",
     "output_type": "stream",
     "text": [
      "1366\n"
     ]
    }
   ],
   "source": [
    "a = 2**1000\n",
    "c = []\n",
    "\n",
    "for i in str(a):\n",
    "    c.append(int(i))\n",
    "\n",
    "print sum(c)"
   ]
  },
  {
   "cell_type": "markdown",
   "metadata": {},
   "source": [
    "2의 1000승을 한 결과값을 str형태로 변환하여 반복문을 통하여 하나씩 자른뒤 자른 값을 int로 바꾸고 리스트에 하나씩 넣고 그 리스트의 값을 더하면 답이 나옵니다."
   ]
  },
  {
   "cell_type": "markdown",
   "metadata": {},
   "source": [
    "[8번 문제]\n",
    "1부터 5까지의 숫자를 영어로 쓰면 one, two, three, four, five 이고,\n",
    "각 단어의 길이를 더하면 3 + 3 + 5 + 4 + 4 = 19 이므로 사용된 글자는 모두 19개입니다.\n",
    "\n",
    "1부터 1,000까지 영어로 썼을 때는 모두 몇 개의 글자를 사용해야 할까요?\n",
    "\n",
    "참고: 빈 칸이나 하이픈('-')은 셈에서 제외하며, 단어 사이의 and 는 셈에 넣습니다.\n",
    "   예를 들어 342를 영어로 쓰면 three hundred and forty-two 가 되어서 23 글자,\n",
    "   115 = one hundred and fifteen 의 경우에는 20 글자가 됩니다."
   ]
  },
  {
   "cell_type": "code",
   "execution_count": 27,
   "metadata": {
    "collapsed": false
   },
   "outputs": [
    {
     "name": "stdout",
     "output_type": "stream",
     "text": [
      "14494\n"
     ]
    }
   ],
   "source": [
    "one = [0, 3, 3, 5, 4, 4, 3, 5, 5, 4, 3, 6, 6, 8, 8, 7, 7, 9, 8, 8] # 0부터 19까지 영어 단어 글자 수\n",
    "ten = [0, 3, 6, 6, 5, 5, 5, 7, 6, 6] # 10단위의 0부터 90까지 영어 단어 글자 수\n",
    "hundred = 7 # 100 영어 단어 글자 수\n",
    "thousand = 8 # 1000 영어 단어 글자 수\n",
    " \n",
    "result = 0\n",
    "for i in range(1,1000):\n",
    "    a = i % 10\n",
    "    b = ((i % 100) - a) / 10\n",
    "    c = ((i % 1000) - (b * 10) - a) / 100\n",
    " \n",
    "    if b == 0 or b == 1: \n",
    "        result += one[b * 10 + a]\n",
    "    if c != 0:\n",
    "        result += one[c] + hundred\n",
    "        if a != 0 or b != 0: \n",
    "            result += 3\n",
    "    else: \n",
    "        result += ten[b] + one[a]\n",
    "\n",
    "result = result + one[1] + thousand # 1000일때 최종적으로 더하기\n",
    "\n",
    "print result"
   ]
  },
  {
   "cell_type": "markdown",
   "metadata": {},
   "source": [
    "영어 숫자 특성상 0~19까지는 개별단어기 때문에 그 단어의 수를 리스트로 받고 10단위와 100, 1000의 수를 담아서\n",
    "1부터 1000까지 숫자를 통하여 해당 숫자일 경우 단어 수를 포함시키도록 만들었습니다. 각각 단어는 일의 단위 십의 단위 백의 단위 순서대로 and를 포함시키는것 까지 했습니다."
   ]
  },
  {
   "cell_type": "markdown",
   "metadata": {},
   "source": [
    "[9번 문제]\n",
    "삼각형의 꼭대기부터 아래쪽으로 인접한 숫자를 찾아 내려가면서 합을 구하면, 위의 그림처럼 3 + 7 + 4 + 9 = 23 이 가장 큰 합을 갖는 경로가 됩니다.\n",
    "\n",
    "다음 삼각형에서 합이 최대가 되는 경로를 찾아서 그 합을 구하세요."
   ]
  },
  {
   "cell_type": "code",
   "execution_count": 31,
   "metadata": {
    "collapsed": false
   },
   "outputs": [
    {
     "name": "stdout",
     "output_type": "stream",
     "text": [
      "1074 found\n"
     ]
    }
   ],
   "source": [
    "rows = [\"75\",\n",
    "        \"95 64\",\n",
    "        \"17 47 82\",\n",
    "        \"18 35 87 10\",\n",
    "        \"20 04 82 47 65\",\n",
    "        \"19 01 23 75 03 34\",\n",
    "        \"88 02 77 73 07 63 67\",\n",
    "        \"99 65 04 28 06 16 70 92\",\n",
    "        \"41 41 26 56 83 40 80 70 33\",\n",
    "        \"41 48 72 33 47 32 37 16 94 29\",\n",
    "        \"53 71 44 65 25 43 91 52 97 51 14\",\n",
    "        \"70 11 33 28 77 73 17 78 39 68 17 57\",\n",
    "        \"91 71 52 38 17 14 91 43 58 50 27 29 48\",\n",
    "        \"63 66 04 68 89 53 67 30 73 16 69 87 40 31\",\n",
    "        \"04 62 98 27 23 09 70 98 73 93 38 53 60 04 23\"]\n",
    "\n",
    "def recSumAtRow(rows_cut, rowNum):\n",
    "    for i in range(len(rows_cut[rowNum])):\n",
    "        rows_cut[rowNum][i] += max([rows_cut[rowNum+1][i],rows_cut[rowNum+1][i+1]])\n",
    "    if len(rows_cut[rowNum])==1: \n",
    "        return rows_cut[rowNum][0]\n",
    "    else: \n",
    "        return recSumAtRow(rows_cut, rowNum-1)\n",
    "\n",
    "rows_cut = []\n",
    "for line in rows:\n",
    "    rows_cut.append([int(i) for i in line.split(\" \")])\n",
    "\n",
    "result = recSumAtRow(rows_cut, len(rows_cut)-2)\n",
    "print \"%s found\" % (result)"
   ]
  },
  {
   "cell_type": "markdown",
   "metadata": {},
   "source": [
    "우선 2차원 배열 형태로 리스트 안에 리스트로 만들어 각각 숫자로 나눈뒤에 선택된 숫자의 열 번호와 그 다음 행의 열번호의 수를 비교하여 가장 큰 숫자 출력하는 것이다. 이 방법은 재귀함수로 만들어서 가장 아래 행부터 한행씩 올라가며 인접하는 수 끼리 더하여 가장 큰 수를 출력해준다."
   ]
  },
  {
   "cell_type": "code",
   "execution_count": null,
   "metadata": {
    "collapsed": true
   },
   "outputs": [],
   "source": []
  },
  {
   "cell_type": "code",
   "execution_count": null,
   "metadata": {
    "collapsed": true
   },
   "outputs": [],
   "source": []
  },
  {
   "cell_type": "markdown",
   "metadata": {},
   "source": [
    "[11번 문제]\n",
    "n! 이라는 표기법은 n × (n − 1) × ... × 3 × 2 × 1을 뜻합니다.\n",
    "\n",
    "예를 들자면 10! = 10 × 9 × ... × 3 × 2 × 1 = 3628800 이 되는데,\n",
    "여기서 10!의 각 자리수를 더해 보면 3 + 6 + 2 + 8 + 8 + 0 + 0 = 27 입니다.\n",
    "\n",
    "100! 의 자리수를 모두 더하면 얼마입니까?"
   ]
  },
  {
   "cell_type": "code",
   "execution_count": 29,
   "metadata": {
    "collapsed": false
   },
   "outputs": [
    {
     "name": "stdout",
     "output_type": "stream",
     "text": [
      "648\n"
     ]
    }
   ],
   "source": [
    "def fac(n):\n",
    "    if n == 0: return 1\n",
    "    else: return n * fac(n - 1)\n",
    "\n",
    "def sumnum(n):\n",
    "    return sum([int(i) for i in str(n)])\n",
    " \n",
    "result = sumnum(fac(100))\n",
    " \n",
    "print result"
   ]
  },
  {
   "cell_type": "markdown",
   "metadata": {},
   "source": [
    "이 문제는 간단하게 재귀적인 방법으로 팩토리얼 계산을 하여 그 숫자를 하나씩 나누어 더한 결과를 출력 해주면 된다."
   ]
  },
  {
   "cell_type": "markdown",
   "metadata": {},
   "source": [
    "[12번 문제]\n",
    "n의 약수들 중에서 자신을 제외한 것의 합을 d(n)으로 정의했을 때,\n",
    "서로 다른 두 정수 a, b에 대하여 d(a) = b 이고 d(b) = a 이면 \n",
    "a, b는 친화쌍이라 하고 a와 b를 각각 친화수(우애수)라고 합니다. \n",
    "\n",
    "예를 들어 220의 약수는 자신을 제외하면 1, 2, 4, 5, 10, 11, 20, 22, 44, 55, 110 이므로 그 합은 d(220) = 284 입니다.\n",
    "또 284의 약수는 자신을 제외하면 1, 2, 4, 71, 142 이므로 d(284) = 220 입니다.\n",
    "따라서 220과 284는 친화쌍이 됩니다. \n",
    "\n",
    "10000 이하의 친화수들을 모두 찾아서 그 합을 구하세요."
   ]
  },
  {
   "cell_type": "code",
   "execution_count": 5,
   "metadata": {
    "collapsed": false
   },
   "outputs": [
    {
     "name": "stdout",
     "output_type": "stream",
     "text": [
      "31626\n"
     ]
    }
   ],
   "source": [
    "def divisor(n):\n",
    "    s = 0\n",
    "    for i in range(1,n):\n",
    "        if n % i == 0: \n",
    "            s += i\n",
    "    return s\n",
    " \n",
    "def friendly_number(low,high):\n",
    "    L = [divisor(i) for i in range(low,high + 1)]\n",
    "    temp = []\n",
    "    for i in range(high - low + 1):\n",
    "        num = L[i]\n",
    "        if i + low < num and low <= num and num <= high and L[num - low] == i + low:\n",
    "            temp.append([i+low,num])\n",
    "    return temp\n",
    " \n",
    "def sumnum(templist):\n",
    "    return sum([sum(i) for i in templist])\n",
    " \n",
    "result = sumnum(friendly_number(1,10000))\n",
    " \n",
    "print result"
   ]
  },
  {
   "cell_type": "markdown",
   "metadata": {},
   "source": [
    "우선 1부터 10000까지 각각의 약수를 모두 구하여 L이라는 리스트에 결과물을 입력합니다\n",
    "temp라는 리스트에 L의 결과물 num이라는 변수를 가지고 처음부터 비교를 합니다.\n",
    "비교조건은\n",
    "1. i+low는 어떤 친화수 2수 중에 가장 작은 값이고 num은 가장 큰 값인데 그 중에 num과 i+low는 num이 같거나 커야하고 (중복 때문에)\n",
    "2. high라는 입력 수 중에 가장 10000 보다 같거나 작야아 합니다.\n",
    "\n",
    "그 결과 L[num - low]의 리스트 값은 i + low와 같아 집니다. 친화수이기 때문에 중복을 없앴기 때문에 결과가 그렇게 나오게 됩니다.\n",
    "그래서 결론적으로 이 수 친화수 (작은값, 큰값)을 리스트에 담아서 모두 더하면 결과가 나옵니다."
   ]
  },
  {
   "cell_type": "markdown",
   "metadata": {},
   "source": [
    "[13번 문제]\n",
    "\n",
    "이전 Assignment 3 (Assignment 4가 아님)의 마지막 문제는 웹 URL로 지정된 웹페이지를 문자열로 가져와 모든 HTML 태그 및 CSS와 Javascript를 제외한 순수 텍스트를 얻어내고 그 안에 존재하는 단어를 추출하여 각 단어들에 대해 출현빈도를 사전형태({'world': 2, 'hello': 1, 'python': 1})로 저장하여 출력하는 것이었다. 이번에는 Assignment 3을 다시 확장/변형하여 다음과 같은 조건을 만족하도록 구현하시오.\n"
   ]
  },
  {
   "cell_type": "code",
   "execution_count": 34,
   "metadata": {
    "collapsed": false,
    "scrolled": true
   },
   "outputs": [
    {
     "name": "stdout",
     "output_type": "stream",
     "text": [
      "('CNN', 15)\n"
     ]
    }
   ],
   "source": [
    "#-*- coding: utf-8 -*-\n",
    "import urllib2\n",
    "import string\n",
    "\n",
    "class WebWordsFrequency:\n",
    "    urls = []\n",
    "    words_dict = {}\n",
    "    def __init__(self,*url):\n",
    "        global urls\n",
    "        \n",
    "        if len(url)==0:\n",
    "            if len(words_dict) == 0:\n",
    "                print None\n",
    "            else:\n",
    "                print words_dict\n",
    "        else:\n",
    "            for i in url:\n",
    "                self.urls.append(i)\n",
    "            for i in self.urls:\n",
    "                source = urllib2.urlopen(i).read()\n",
    "                source = self.stylesheet_delete(source)\n",
    "                source = self.javascript_delete(source)\n",
    "                source = self.tag_delete(source)\n",
    "                source = self.punc_delete(source)\n",
    "                words = source.split()  \n",
    "                self.stopword_delete(words)\n",
    "                source = \" \".join(words)\n",
    "                words = source.split()\n",
    "                self.words_dict = self.word_count(words, self.words_dict)\n",
    "                self = self.words_dict\n",
    "        \n",
    "            \n",
    "    def tag_delete(self, string):\n",
    "        for i in range(0, string.count('<!--')):\n",
    "            if string.find(\"<!--\") != -1:\n",
    "                string = string.replace(string[string.find(\"<!--\"):string.find(\"-->\")+3:],\" \")\n",
    "        for i in range(0,string.count(\"<\")):\n",
    "            if string.find(\"<\") != -1:\n",
    "                string = string.replace(string[string.find(\"<\"):string.find(\">\")+1:],\" \")\n",
    "\n",
    "        return string\n",
    "\n",
    "    #자바스크립트 제거\n",
    "    def javascript_delete(self, string):\n",
    "        for i in range(0, string.count('<script')):\n",
    "            if string.find(\"<script\") != -1:\n",
    "                string = string.replace(string[string.find(\"<script\"):string.find(\"</script>\")+9:],\" \")\n",
    "        return string\n",
    "\n",
    "    #css 제거\n",
    "    def stylesheet_delete(self, string):\n",
    "        for i in range(0, string.count('<style')):\n",
    "            if string.find(\"<style\") != -1:\n",
    "                string = string.replace(string[string.find(\"<style\"):string.find(\"</style>\")+8:],\" \")\n",
    "        return string\n",
    "\n",
    "    #구두문자 제거 함수\n",
    "    def punc_delete(self, source):\n",
    "        punctuation = string.punctuation\n",
    "        for i in range (len(punctuation)):\n",
    "            source= source.replace(punctuation[i],\" \")\n",
    "\n",
    "        return source\n",
    "\n",
    "    #불용어 제거 함수\n",
    "    def stopword_delete(self, words):\n",
    "        stopword = [ 'A','a', 'and', 'are', 'as', 'at', 'be', 'but','But', 'by', 'for', 'if','If', 'in', 'into', 'is', 'it','It', 'no','No', 'not','Not', 'of', 'on', 'or', 's', 'such', 't', 'that','That', 'the','The', 'their','Their', 'then','Then', 'there','There', 'these','These', 'they','They', 'this','This', 'to', 'was', 'will', 'with']\n",
    "        for i in range (len(stopword)):\n",
    "            for j in range(len(words)):\n",
    "                if words[j] == stopword[i]:\n",
    "                    words[j] = \" \"\n",
    "\n",
    "\n",
    "    #사전형태로 출현빈도 저장 함수\n",
    "    def word_count(self, words, words_dict):\n",
    "        for i in words:\n",
    "            if words_dict.has_key(i) is False:\n",
    "                words_dict[i]=1\n",
    "            else:\n",
    "                words_dict[i]+=1\n",
    "        return words_dict\n",
    "    \n",
    "    def addUrl(self, url):\n",
    "        self.urls.append(url)\n",
    "        return self.urls\n",
    "\n",
    "    def removeUrl(self, url):\n",
    "        self.urls.remove(url)\n",
    "        return self.urls\n",
    "    \n",
    "    def listUrls(self):\n",
    "        return self.urls\n",
    "    \n",
    "    def getWordsFrequency(self):\n",
    "        return self.words_dict\n",
    "    \n",
    "    def getMaxFreqencyWords(self): \n",
    "        g = self.words_dict.items()\n",
    "        g.sort(key=lambda x:x[1],reverse=True)\n",
    "        for i in range(len(g)):\n",
    "            if(g[0] == g[i]):\n",
    "                print g[i]\n",
    "    \n",
    "w1 = WebWordsFrequency('http://www.cnn.com')\n",
    "w1.addUrl('https://github.com')\n",
    "w1.removeUrl('https://github.com')\n",
    "w1.listUrls()\n",
    "w1.getMaxFreqencyWords()"
   ]
  },
  {
   "cell_type": "markdown",
   "metadata": {},
   "source": [
    "이 문제는 기존의 4번 과제에서 클래스로 만들고 해당 변수를 클래스 내에 전역 변수 형태로 만들어서 url을 담고 각각 요구사항을 수행하였습니다."
   ]
  },
  {
   "cell_type": "markdown",
   "metadata": {},
   "source": [
    "[14번 문제]\n",
    "\n",
    "13번 문제에서 정의한 WebWordsFrequency 클래스를 상속하여 OrderedWebWordsFrequency 클래스를 정의하고 슈퍼클래스에 정의된 getWordsFrequency() 메소드를 오버라이드 하여 단어 출현 빈도를 내림 차순으로 정렬하여 리스트로 출력하시오.\n",
    "•리스트 내의 각 원소는 단어와 빈도를 쌍으로 지니는 튜플이다.\n",
    "\n",
    "•getWordFrequence() 메소드에 reverse 라는 인자를 만들고 true 또는 false를 인자로 받을 수 있도록 한다.\n",
    "◾reverse 인자의 디폴트 값은 false 이며, 기본적으로 내림차순으로 정렬한다.\n",
    "◾reverse 인자에 true를 넣으면 오름차순으로 정렬한다."
   ]
  },
  {
   "cell_type": "code",
   "execution_count": 45,
   "metadata": {
    "collapsed": false
   },
   "outputs": [
    {
     "ename": "AttributeError",
     "evalue": "'dict' object has no attribute 'stylesheet_delete'",
     "output_type": "error",
     "traceback": [
      "\u001b[1;31m---------------------------------------------------------------------------\u001b[0m",
      "\u001b[1;31mAttributeError\u001b[0m                            Traceback (most recent call last)",
      "\u001b[1;32m<ipython-input-45-0a6204328937>\u001b[0m in \u001b[0;36m<module>\u001b[1;34m()\u001b[0m\n\u001b[0;32m      9\u001b[0m                 \u001b[1;32mprint\u001b[0m \u001b[0mg\u001b[0m\u001b[1;33m[\u001b[0m\u001b[0mi\u001b[0m\u001b[1;33m]\u001b[0m\u001b[1;33m\u001b[0m\u001b[0m\n\u001b[0;32m     10\u001b[0m \u001b[1;33m\u001b[0m\u001b[0m\n\u001b[1;32m---> 11\u001b[1;33m \u001b[0mw4\u001b[0m \u001b[1;33m=\u001b[0m \u001b[0mOrderedWebWordsFrequency\u001b[0m\u001b[1;33m(\u001b[0m\u001b[1;34m'http://www.cnn.com'\u001b[0m\u001b[1;33m)\u001b[0m\u001b[1;33m\u001b[0m\u001b[0m\n\u001b[0m\u001b[0;32m     12\u001b[0m \u001b[0mw4\u001b[0m\u001b[1;33m.\u001b[0m\u001b[0mgetWordsFrequency\u001b[0m\u001b[1;33m(\u001b[0m\u001b[1;33m)\u001b[0m\u001b[1;33m\u001b[0m\u001b[0m\n",
      "\u001b[1;32m<ipython-input-34-19de4d9700a9>\u001b[0m in \u001b[0;36m__init__\u001b[1;34m(self, *url)\u001b[0m\n\u001b[0;32m     19\u001b[0m             \u001b[1;32mfor\u001b[0m \u001b[0mi\u001b[0m \u001b[1;32min\u001b[0m \u001b[0mself\u001b[0m\u001b[1;33m.\u001b[0m\u001b[0murls\u001b[0m\u001b[1;33m:\u001b[0m\u001b[1;33m\u001b[0m\u001b[0m\n\u001b[0;32m     20\u001b[0m                 \u001b[0msource\u001b[0m \u001b[1;33m=\u001b[0m \u001b[0murllib2\u001b[0m\u001b[1;33m.\u001b[0m\u001b[0murlopen\u001b[0m\u001b[1;33m(\u001b[0m\u001b[0mi\u001b[0m\u001b[1;33m)\u001b[0m\u001b[1;33m.\u001b[0m\u001b[0mread\u001b[0m\u001b[1;33m(\u001b[0m\u001b[1;33m)\u001b[0m\u001b[1;33m\u001b[0m\u001b[0m\n\u001b[1;32m---> 21\u001b[1;33m                 \u001b[0msource\u001b[0m \u001b[1;33m=\u001b[0m \u001b[0mself\u001b[0m\u001b[1;33m.\u001b[0m\u001b[0mstylesheet_delete\u001b[0m\u001b[1;33m(\u001b[0m\u001b[0msource\u001b[0m\u001b[1;33m)\u001b[0m\u001b[1;33m\u001b[0m\u001b[0m\n\u001b[0m\u001b[0;32m     22\u001b[0m                 \u001b[0msource\u001b[0m \u001b[1;33m=\u001b[0m \u001b[0mself\u001b[0m\u001b[1;33m.\u001b[0m\u001b[0mjavascript_delete\u001b[0m\u001b[1;33m(\u001b[0m\u001b[0msource\u001b[0m\u001b[1;33m)\u001b[0m\u001b[1;33m\u001b[0m\u001b[0m\n\u001b[0;32m     23\u001b[0m                 \u001b[0msource\u001b[0m \u001b[1;33m=\u001b[0m \u001b[0mself\u001b[0m\u001b[1;33m.\u001b[0m\u001b[0mtag_delete\u001b[0m\u001b[1;33m(\u001b[0m\u001b[0msource\u001b[0m\u001b[1;33m)\u001b[0m\u001b[1;33m\u001b[0m\u001b[0m\n",
      "\u001b[1;31mAttributeError\u001b[0m: 'dict' object has no attribute 'stylesheet_delete'"
     ]
    }
   ],
   "source": [
    "class OrderedWebWordsFrequency(WebWordsFrequency):\n",
    "    def getWordsFrequency(self, *reverse):\n",
    "        if self.reverse is None:\n",
    "            self.reverse = false\n",
    "        g = self.words_dict.items()\n",
    "        g.sort(key=lambda x:x[1],reverse = self.reverse)\n",
    "        for i in range(len(g)):\n",
    "            if(g[0] == g[i]):\n",
    "                print g[i]\n",
    "\n",
    "w4 = OrderedWebWordsFrequency('http://www.cnn.com')\n",
    "w4.getWordsFrequency()"
   ]
  },
  {
   "cell_type": "markdown",
   "metadata": {},
   "source": [
    "답이 맞는거 같은데 중간에 스타일시트 삭제가 중간에 오류가 나서 확인이 잘 안되네요 아무튼 수정했습니다."
   ]
  },
  {
   "cell_type": "markdown",
   "metadata": {},
   "source": [
    "1학기동안 수고 많으셨습니다. 파이썬 상당히 간단하고 재미있네요 교수님과 조교님 1학기동안 수고하셨습니다!\n",
    "이번에도 어려운 문제가 있어서 몇개는 빼먹었습니다. ㅠㅠ"
   ]
  },
  {
   "cell_type": "markdown",
   "metadata": {},
   "source": []
  }
 ],
 "metadata": {
  "kernelspec": {
   "display_name": "Python 2",
   "language": "python",
   "name": "python2"
  },
  "language_info": {
   "codemirror_mode": {
    "name": "ipython",
    "version": 2
   },
   "file_extension": ".py",
   "mimetype": "text/x-python",
   "name": "python",
   "nbconvert_exporter": "python",
   "pygments_lexer": "ipython2",
   "version": "2.7.10"
  }
 },
 "nbformat": 4,
 "nbformat_minor": 0
}
