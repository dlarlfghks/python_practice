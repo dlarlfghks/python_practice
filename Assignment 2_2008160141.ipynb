{
 "cells": [
  {
   "cell_type": "markdown",
   "metadata": {},
   "source": [
    "##Assignment 2 2008160141 임길환"
   ]
  },
  {
   "cell_type": "markdown",
   "metadata": {},
   "source": [
    "###•다음 6 개의 Expression에 대해 Evaluation 결과 값을 출력하고, 해당 결과가 나온 이유에 대해 설명하시오\n",
    "◾1 and 2 and 3 and 4\n",
    "◾1 or 2 or 3 or 4\n",
    "◾1 and 2 or 3 and 4\n",
    "◾(1 and 2) or (3 and 4)\n",
    "◾1 or 2 and 3 or 4\n",
    "◾(1 or 2) and (3 or 4)\n"
   ]
  },
  {
   "cell_type": "code",
   "execution_count": 22,
   "metadata": {
    "collapsed": false
   },
   "outputs": [
    {
     "name": "stdout",
     "output_type": "stream",
     "text": [
      "4\n",
      "1\n",
      "2\n",
      "2\n",
      "1\n",
      "3\n"
     ]
    }
   ],
   "source": [
    "print 1 and 2 and 3 and 4\n",
    "print 1 or 2 or 3 or 4\n",
    "print 1 and 2 or 3 and 4\n",
    "print (1 and 2) or (3 and 4)\n",
    "print 1 or 2 and 3 or 4\n",
    "print (1 or 2) and (3 or 4)"
   ]
  },
  {
   "cell_type": "markdown",
   "metadata": {},
   "source": [
    "논리 연산자 자체가 값을 반환하지 않고 결과가 알려지는 시점까지만 계산이 되기 때문에 최종 계산 시점의 레퍼런스 객체를 리턴하게 됩니다.\n",
    "\n",
    "1. 1 and 2 and 3 and 4의 경우에는 4까지 모두 계산해야 하므로 최종 계산 시점인 4가 출력이 되고\n",
    "2. 1 or 2 or 3 or 4의 경우 or 연산자 특성상 둘중에 하나만 참이면 모두 참인 특성에 의하여 1이란 수 자체가 True이므로 1과 2의 연산을 하지 않고 바로 1을 출력이 됩니다.\n",
    "3. 1 and 2 or 3 and 4의 경우 1과 2의 연산을 하고 2 or 3의 경우 2까지 이미 True이므로 연산하지 않고 2가 출력 됩니다.\n",
    "4. (1 and 2) or (3 and 4)의 경우 1 and 2 의 결과인 2와 3 and 4의 결과인 4가 2 or 4 가 되므로 2가 출력 됩니다.\n",
    "5. 1 or 2 and 3 or 4의 경우 개인적인 생각으로 1 or 2는 이미 1 자체가 true이고 1 and 3에선 3이 출력되고 3 or 4에서 3이 출력되므로 3이 될것 같았지만 결국 1이 출력 되었는데 아마 1 or 2에서 1 자체가 true이므로 뒤에 연산은 보지 않고 출력되는거 같습니다\n",
    "6. (1 or 2) and (3 or 4)의 경우 1 or 2는 1, 3 or 4 는 3 이므로 1 and 3은 3이므로 3이 출력 되겠습니다."
   ]
  },
  {
   "cell_type": "markdown",
   "metadata": {},
   "source": [
    "###•키보드로 정수값을 입력 받고 그 값이 양수인지 음수인지를 비트 연산자를 이용하여 판단하는 프로그램을 작성하시오."
   ]
  },
  {
   "cell_type": "code",
   "execution_count": 9,
   "metadata": {
    "collapsed": false
   },
   "outputs": [
    {
     "name": "stdout",
     "output_type": "stream",
     "text": [
      "input : 17\n",
      "0b10001\n",
      "5\n",
      "입력한 수 (17)는 양수 입니다.\n"
     ]
    }
   ],
   "source": [
    "number = input(\"input : \")\n",
    "\n",
    "print bin(number)\n",
    "print number.bit_length()\n",
    "\n",
    "if(number >> number.bit_length()) == 0:\n",
    "    print \"입력한 수 (\" + str(number) +\")는 양수 입니다.\"\n",
    "else:\n",
    "    print \"입력한 수 (\" + str(number) +\")는 음수 입니다.\""
   ]
  },
  {
   "cell_type": "markdown",
   "metadata": {},
   "source": [
    "number에 수를 입력받아 number의 최상위 비트가 0인이 1인지 판별하여 양수 음수를 판단하였습니다.\n",
    "그렇게 하기 위해서 number의 비트길이를 알아야 하는데 number.bit_length()을 통하여 찾았고\n",
    "number를 17이라 입력받고 비트수를 찾으면 5가 나오는데 이때 이 수를 2진수로 표현해보면 0b10001이 나오는데 -17을 2진수로 표현하면 -0b10001이 나온다. 확실히 이렇게 해서는 잘 모르겠으나 아마 최상위 비트는 음수 양수를 판단하는 비트라 가정하고 number를 number의 비트만큼 오른쪽으로 밀어버리면 부호비트만 남을거라 생각하고 짜본 결과 생각대로 부호만 남아 음수 양수를 판단할수 있었습니다."
   ]
  },
  {
   "cell_type": "markdown",
   "metadata": {},
   "source": [
    "###•경로에 해당하는 문자열 1개를 입력 받아 그 안에 디렉토리 경로명과 파일명을 분리하여 리스트로 반환하는 함수 div_path(s)를 작성하시오.\n",
    "◾인자로 전달하는 문자열은 경로만 들어간다고 가정한다.\n",
    "◾각 디렉토리와 파일을 구분하는 문자는 '/'로 가정한다.\n",
    "◾반환하는 리스트의 첫번째 원소는 디렉토리이고 두번째 원소는 파일명이다.\n",
    "◾다음과 같은 실행 및 출력 결과가 도출되어야 한다.◦div_path('/usr/local/bin/python')◦['/usr/local/bin', 'python']\n",
    "◦div_path('/home/chulsoo/test.txt')◦['/home/chulsoo', 'test.txt']\n",
    "\n",
    "\n"
   ]
  },
  {
   "cell_type": "code",
   "execution_count": 2,
   "metadata": {
    "collapsed": false
   },
   "outputs": [
    {
     "name": "stdout",
     "output_type": "stream",
     "text": [
      "input path :/home/usr/iejfd.txt\n",
      "['/home/usr', 'iejfd.txt']\n"
     ]
    }
   ],
   "source": [
    "path = raw_input(\"input path :\")\n",
    "\n",
    "def div_path(input_path):\n",
    "    index = input_path.rindex(\"/\")\n",
    "    input_path = [input_path[0:index], input_path[index+1:]]\n",
    "    return input_path\n",
    "    \n",
    "print div_path(path)"
   ]
  },
  {
   "cell_type": "markdown",
   "metadata": {},
   "source": [
    "먼저 입력받은 경로에서 오른쪽부터 \"/\"를 찾습니다. 어차피 제일 먼저 나온 인덱스값만 나오므로 그 값을 기점으로 디렉토리 경로와 파일명을 분리시켜 input_path를 리스트 형태로 두 값을 넣었습니다."
   ]
  },
  {
   "cell_type": "markdown",
   "metadata": {},
   "source": [
    "###•두 개의 리스트를 인자로 받아서 그 두 개의 리스트에 대한 '합집합'을 반환하는 함수 list_union(lista, listb)를 작성하시오.\n",
    "◾인자로 전달하는 리스트 2 개에는 정수값만 들어간다고 가정하자.\n",
    "◾함수 내에서 새로운 리스트를 만들어 그 리스트 내에 인자로 받은 두 리스트의 모든 원소를 넣어 반환한다.\n",
    "◾반환하는 리스트에는 절대로 중복된 원소가 들어 있으면 안된다 (집합의 조건).\n",
    "◾반환하는 리스트는 정렬이 되어 있어야 한다.\n",
    "◾다음과 같은 실행 및 출력 결과가 도출되어야 한다.◦list_union([1, 2, 3], [1, 2, 4])◦[1, 2, 3, 4]\n",
    "\n",
    "◦list_union([-10, -5, 0, -1], [100, 9, 0, 9])◦[-10, -5, -1, 0, 9, 100]\n",
    "\n",
    "◦list_union([0, 1, 2], [0, 1, 2])◦[0, 1, 2]\n",
    "\n",
    "\n",
    "◾[참고] 리스트(l) 내에 새로운 정수값 (예를 들어 10)을 넣는 방법은 l.append(10) 이다.\n",
    "◾[참고] 임의의 정수값 (x)이 리스트 (l) 내에 존재하는지 판단하는 방법은 x in l 이다.\n"
   ]
  },
  {
   "cell_type": "code",
   "execution_count": 24,
   "metadata": {
    "collapsed": false
   },
   "outputs": [
    {
     "name": "stdout",
     "output_type": "stream",
     "text": [
      "[-10, -5, -1, 0, 9, 100]\n"
     ]
    }
   ],
   "source": [
    "a = [-10, -5, 0, -1]\n",
    "b = [100, 9, 0, 9]\n",
    "\n",
    "def list_union(lista, listb):\n",
    "    i = lista\n",
    "    for x in listb:\n",
    "        if not(x in i):\n",
    "            i.append(x)\n",
    "    i.sort()\n",
    "    return i\n",
    "\n",
    "print list_union(a, b)"
   ]
  },
  {
   "cell_type": "markdown",
   "metadata": {},
   "source": [
    "a리스트와 b리스트를 만들어 함수에 넣는 형태로 만들었습니다.\n",
    "i리스트를 a리스트의 정보를 가지고\n",
    "for문을 이용하여 listb에 있는 원소들을 i리스트와 비교하여 중복되는 부분을 제거하고 마지막에 기본 메소드인 sort()를 하여 정렬을 하고 i리스트를 리턴하는 형태로 작성하였습니다."
   ]
  },
  {
   "cell_type": "markdown",
   "metadata": {},
   "source": [
    "### Problem 4\n",
    "\n",
    "앞에서부터 읽을 때나 뒤에서부터 읽을 때나 모양이 같은 수를 대칭수(palindrome)라고 부릅니다.\n",
    "\n",
    "두 자리 수를 곱해 만들 수 있는 대칭수 중 가장 큰 수는 9009 (= 91 × 99) 입니다.\n",
    "\n",
    "세 자리 수를 곱해 만들 수 있는 가장 큰 대칭수는 얼마입니까?"
   ]
  },
  {
   "cell_type": "code",
   "execution_count": 39,
   "metadata": {
    "collapsed": false
   },
   "outputs": [
    {
     "name": "stdout",
     "output_type": "stream",
     "text": [
      "가장 큰 대칭수는 993x913=906609입니다.\n"
     ]
    }
   ],
   "source": [
    "result = 0\n",
    "first = 0\n",
    "second = 0\n",
    "\n",
    "for x in range(999,1,-1):\n",
    "    for y in range(999,1,-1):\n",
    "        temp = x*y\n",
    "        if str(temp)[0:1] == str(temp)[-1:] and \\\n",
    "        str(temp)[1:2] == str(temp)[-2:-1] and \\\n",
    "        str(temp)[2:3] == str(temp)[-3:-2]:\n",
    "            if result < temp:\n",
    "                first = x\n",
    "                second = y\n",
    "                result = temp\n",
    "        \n",
    "\n",
    "print \"가장 큰 대칭수는 \" + str(first) + \"x\" + str(second) + \"=\" + str(result) + \"입니다.\""
   ]
  },
  {
   "cell_type": "markdown",
   "metadata": {},
   "source": [
    "가장 큰 대칭수를 찾기 위해서 999 x 999부터 1씩 줄여 나가며 곱하여 결과값을 문자열로 만들어 대칭되는 수끼리 같은지 확인하여 제일 큰 수를 반영하며 결과값을 찾는 방법을 사용하였습니다."
   ]
  },
  {
   "cell_type": "markdown",
   "metadata": {},
   "source": [
    "###Problem 5\n",
    "1 ~ 10 사이의 어떤 수로도 나누어 떨어지는 가장 작은 수는 2520입니다.\n",
    "\n",
    "그러면 1 ~ 20 사이의 어떤 수로도 나누어 떨어지는 가장 작은 수는 얼마입니까?"
   ]
  },
  {
   "cell_type": "code",
   "execution_count": 36,
   "metadata": {
    "collapsed": false
   },
   "outputs": [
    {
     "name": "stdout",
     "output_type": "stream",
     "text": [
      "Input Number : 20\n",
      "232792560\n"
     ]
    }
   ],
   "source": [
    "number = input(\"Input Number : \")\n",
    "numlist = []\n",
    "resultnumber = 1\n",
    "\n",
    "def Maxmi(numberlist):\n",
    "    finded = 0\n",
    "    for item in range(2, numberlist):\n",
    "        if numberlist % item == 0:\n",
    "            finded = 1\n",
    "            break\n",
    "    if not finded:\n",
    "        for x in range(2, number+1):\n",
    "            multiple = 0\n",
    "            while 1:\n",
    "                if x%numberlist == 0 :\n",
    "                    x /= numberlist\n",
    "                    multiple += 1\n",
    "                else :\n",
    "                    exmul = 0\n",
    "                    if multiple > 0 :\n",
    "                        for y in numlist:\n",
    "                            if y[0] == numberlist and y[1] <= multiple:\n",
    "                                numlist.remove([y[0],y[1]])\n",
    "                            elif y[0] == numberlist and exmul < y[1]:\n",
    "                                exmul = y[1]\n",
    "                        if multiple > exmul:\n",
    "                            numlist.append([numberlist, multiple])\n",
    "                            exmul = 0\n",
    "                    break\n",
    "\n",
    "for findnum in range(2, number+1):\n",
    "    Maxmi(findnum)\n",
    "\n",
    "for result in numlist:\n",
    "    resultnumber *= (result[0] ** result[1])\n",
    "    \n",
    "print resultnumber\n",
    "    "
   ]
  },
  {
   "cell_type": "markdown",
   "metadata": {},
   "source": [
    "이 문제는 소인수분해를 이용하면 쉽게 알 수 있습니다.\n",
    "1부터 20까지 수를 소인수분해를 하면\n",
    "소수 2, 3, 5, 7, 11, 13, 17, 19가 나오고\n",
    "이 소수들이 1~20 중에 최대 몇 번 곱해졌는지 찾고 이 찾은 수들을 모두 곱하면 답이 나옵니다.\n",
    "즉, 2는 16에서 4번 곱해졌고, 3은 9와 18에서 2번 곱해졌고, 나머지 소수들은 각각 1번씩 들어가므로\n",
    "16 * 6 * 5 * 7 * 11 * 13 * 17 * 19 가 답이 나온다"
   ]
  },
  {
   "cell_type": "markdown",
   "metadata": {},
   "source": [
    "###Problem 6\n",
    "1부터 10까지 자연수를 각각 제곱해 더하면 다음과 같습니다 (제곱의 합).\n",
    "\n",
    "1^2 + 2^2 + ... + 10^2 = 385\n",
    "\n",
    "1부터 10을 먼저 더한 다음에 그 결과를 제곱하면 다음과 같습니다 (합의 제곱).\n",
    "\n",
    "(1 + 2 + ... + 10)^2 = 552 = 3025\n",
    "\n",
    "따라서 1부터 10까지 자연수에 대해 \"합의 제곱\"과 \"제곱의 합\" 의 차이는 3025 - 385 = 2640 이 됩니다.\n",
    "\n",
    "그러면 1부터 100까지 자연수에 대해 \"합의 제곱\"과 \"제곱의 합\"의 차이는 얼마입니까?"
   ]
  },
  {
   "cell_type": "code",
   "execution_count": 29,
   "metadata": {
    "collapsed": false
   },
   "outputs": [
    {
     "name": "stdout",
     "output_type": "stream",
     "text": [
      "25164150\n"
     ]
    }
   ],
   "source": [
    "a=0; b=0\n",
    "\n",
    "for x in range(1, 101):\n",
    "    a += x ** 2\n",
    "    b += x\n",
    "\n",
    "b = b ** 2\n",
    "\n",
    "print b-a"
   ]
  },
  {
   "cell_type": "markdown",
   "metadata": {},
   "source": [
    "이 문제는 for문을 이용하여 a의 제곱의 합과 b의 합을 하여 최종적으로 b을 제곱시켜 둘의 차이를 알 수 있는 문제입니다.\n",
    "결과대로 25164150이 나옵니다."
   ]
  },
  {
   "cell_type": "markdown",
   "metadata": {},
   "source": [
    "###[Incremental Project] \n",
    "웹 URL로 지정된 웹페이지를 문자열로 가져와 1) 모든 HTML 태그를 제외한 순수 텍스트 문자열만을 걸러내고, 2) 그 순수 텍스트 문자열 안에 존재하는 단어가 총 몇개인지 출력하는 프로그램을 작성하시오."
   ]
  },
  {
   "cell_type": "code",
   "execution_count": 49,
   "metadata": {
    "collapsed": false
   },
   "outputs": [
    {
     "name": "stdout",
     "output_type": "stream",
     "text": [
      "총 단어 갯수는 : 453개 입니다.\n"
     ]
    }
   ],
   "source": [
    "import urllib2\n",
    "\n",
    "source = urllib2.urlopen(\"http://cse.kut.ac.kr/\").read()\n",
    "\n",
    "line = ''\n",
    "flag = 1\n",
    "\n",
    "for x in source:\n",
    "    if x == \"<\" and flag == 1:\n",
    "        flag = 0\n",
    "    elif x == \">\" and flag == 0:\n",
    "        flag = 1\n",
    "        \n",
    "    if x != \">\" and flag == 1:\n",
    "        line += x\n",
    "\n",
    "line = line.split()\n",
    "\n",
    "print \"총 단어 갯수는 : \" + str(len(line)) + \"개 입니다.\"\n"
   ]
  },
  {
   "cell_type": "code",
   "execution_count": null,
   "metadata": {
    "collapsed": true
   },
   "outputs": [],
   "source": []
  }
 ],
 "metadata": {
  "kernelspec": {
   "display_name": "Python 2",
   "language": "python",
   "name": "python2"
  },
  "language_info": {
   "codemirror_mode": {
    "name": "ipython",
    "version": 2
   },
   "file_extension": ".py",
   "mimetype": "text/x-python",
   "name": "python",
   "nbconvert_exporter": "python",
   "pygments_lexer": "ipython2",
   "version": "2.7.9"
  }
 },
 "nbformat": 4,
 "nbformat_minor": 0
}
